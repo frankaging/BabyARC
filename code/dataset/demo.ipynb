{
 "cells": [
  {
   "cell_type": "code",
   "execution_count": 144,
   "metadata": {},
   "outputs": [],
   "source": [
    "import os\n",
    "import torch\n",
    "from collections import Counter, OrderedDict\n",
    "from operator import itemgetter\n",
    "import random\n",
    "from random import sample\n",
    "import numpy as np\n",
    "import json\n",
    "from collections import OrderedDict\n",
    "import pickle\n",
    "import matplotlib.pylab as plt\n",
    "from functools import partial\n",
    "import pprint\n",
    "import hashlib\n",
    "import copy\n",
    "import sys\n",
    "import math\n",
    "from copy import deepcopy\n",
    "import hashlib\n",
    "import uuid \n",
    "import ast\n",
    "# Baby-ARC related imports\n",
    "from constants import *\n",
    "from utils import *\n",
    "from objects import *\n",
    "from operator import *\n",
    "from canvas import *\n",
    "from dataset import *\n",
    "from itertools import product\n",
    "import re\n",
    "# random seeds\n",
    "seed = 42\n",
    "random.seed(seed)\n",
    "np.random.seed(seed)\n",
    "torch.manual_seed(seed)\n",
    "\n",
    "# global vars\n",
    "RUN_AS_CREATOR = False\n",
    "ARC_OBJ_LOADED = False\n",
    "DEMO_MAX_ARC_OBJS = 500\n",
    "pp = pprint.PrettyPrinter(indent=4)\n",
    "\n",
    "import logging\n",
    "FORMAT = \"%(asctime)-15s %(message)s\"\n",
    "logging.basicConfig(format=FORMAT, level=logging.DEBUG,\n",
    "                    datefmt=\"%Y-%m-%d %H:%M\")\n",
    "logger = logging.getLogger(__name__)\n",
    "\n",
    "if RUN_AS_CREATOR:\n",
    "    logger.info(\"WARNING: You are using this a creator of BabyARC, it assumes you install all dependencies!\")\n",
    "    logger.info(\"If you are not the creator, please disable this. All functionalities of recreating the dataset is still here!\")"
   ]
  },
  {
   "cell_type": "markdown",
   "metadata": {},
   "source": [
    "### Collect Objects from the ARC dataset\n",
    "**WARNING:** This will fail, please use our pre-collected arc object files. We made this avaliable. The process of making this file involves hidden logics which will not be revealed. Currently, you can treat it as just a set of generated object pool!\n",
    "\n",
    "Details about the ARC can be found: https://github.com/fchollet/ARC. Note that you only have to run this one time, it will generate a file and save to the output directory. Later, you can simply use it! "
   ]
  },
  {
   "cell_type": "code",
   "execution_count": 2,
   "metadata": {},
   "outputs": [
    {
     "name": "stderr",
     "output_type": "stream",
     "text": [
      "2021-03-21 01:18 SUCCESS! You loaded the pre-collected object file from ARC!\n"
     ]
    }
   ],
   "source": [
    "if RUN_AS_CREATOR:\n",
    "    training_objs = []\n",
    "    for filename in os.listdir(arc_data_train_path):\n",
    "        if filename.endswith(\".json\"):\n",
    "            print(\"extracting objs from task: \", filename)\n",
    "            training_objs.extend(single_task_obj_parser(filename.split(\".\")[0]))\n",
    "    # we only need to parse once, and save it to the disk\n",
    "    torch.save(training_objs, os.path.join(tmp_data_dirname, 'arc_objs.pt'))\n",
    "else:\n",
    "    try:\n",
    "        arc_objs = torch.load(os.path.join(tmp_data_dirname, 'arc_objs.pt'))\n",
    "        logger.info(\"SUCCESS! You loaded the pre-collected object file from ARC!\")\n",
    "        ARC_OBJ_LOADED = True\n",
    "    except:\n",
    "        logger.info(\"Please check if obejct file in the directory indicated above!\")\n",
    "        logger.info(f\"WARNING: Please get those pre-collected ARC objects in {os.path.join(tmp_data_dirname, 'arc_objs.pt')}!\")\n",
    "        logger.info(\"You can download this file from: https://drive.google.com/file/d/1dZhT1cUFGvivJbSTwnqjou2uilLXffGY/view?usp=sharing\")"
   ]
  },
  {
   "cell_type": "markdown",
   "metadata": {},
   "source": [
    "### Pre-checks before moving forward with the Demo!\n",
    "\n",
    "These are some prechecks we enforced to ensure good user experience with this Demo! Please make sure you pass the test!"
   ]
  },
  {
   "cell_type": "code",
   "execution_count": 3,
   "metadata": {},
   "outputs": [
    {
     "name": "stderr",
     "output_type": "stream",
     "text": [
      "2021-03-21 01:18 PASSED!\n"
     ]
    }
   ],
   "source": [
    "if not ARC_OBJ_LOADED or RUN_AS_CREATOR:\n",
    "    logger.info(\"FAILED! Resolve issues before moving forward with this Demo file!\")\n",
    "else:\n",
    "    logger.info(\"PASSED!\")"
   ]
  },
  {
   "cell_type": "markdown",
   "metadata": {},
   "source": [
    "### Object Engine"
   ]
  },
  {
   "cell_type": "code",
   "execution_count": 4,
   "metadata": {},
   "outputs": [
    {
     "name": "stderr",
     "output_type": "stream",
     "text": [
      "2021-03-21 01:18 Original obj count = 500\n",
      "2021-03-21 01:18 Iso obj count = 51\n"
     ]
    }
   ],
   "source": [
    "ObE = ObjectEngine(arc_objs[:DEMO_MAX_ARC_OBJS])\n",
    "# Below the log, it should shows how many objects it loads.\n",
    "# Iso obj means the count of unique objects (considering rotations, color permutations, etc..)\n",
    "_ = ObE.sample_objs_by_fixed_width()\n",
    "# If no error, that means you successfully sampled an object!"
   ]
  },
  {
   "cell_type": "markdown",
   "metadata": {},
   "source": [
    "### Canvas Engine\n",
    "You can now place different objects based on different relations if provided on the Canvas!"
   ]
  },
  {
   "cell_type": "code",
   "execution_count": 5,
   "metadata": {},
   "outputs": [
    {
     "data": {
      "image/png": "[encoded data removed]",
      "text/plain": [
       "<Figure size 432x288 with 1 Axes>"
      ]
     },
     "metadata": {},
     "output_type": "display_data"
    }
   ],
   "source": [
    "test_canvas = CanvasEngine().sameple_canvas()[0]\n",
    "objs1 = ObE.sample_objs_with_line(n=1, len_lims=[5,10], thickness=1, rainbow_prob=0.1, direction=\"h\")\n",
    "# Here is just one example with how you can sample different objects from the object engine!\n",
    "results = test_canvas.placement(objs1[0])\n",
    "if results == -1:\n",
    "    logger.info(\"Placement step failed! Please rerun!\")\n",
    "else:\n",
    "    test_canvas.render(minimum_cover=False)"
   ]
  },
  {
   "cell_type": "markdown",
   "metadata": {},
   "source": [
    "Placement with object relations."
   ]
  },
  {
   "cell_type": "code",
   "execution_count": 8,
   "metadata": {},
   "outputs": [
    {
     "data": {
      "text/plain": [
       "OrderedDict([((0, 'color_[9]'), 'Attr'),\n",
       "             ((0, 'pos_[3,14]'), 'Attr'),\n",
       "             ((1, 'pos_[1,10]'), 'Attr'),\n",
       "             ((0, 1), 'IsInside')])"
      ]
     },
     "execution_count": 8,
     "metadata": {},
     "output_type": "execute_result"
    },
    {
     "data": {
      "image/png": "[encoded data removed]",
      "text/plain": [
       "<Figure size 432x288 with 1 Axes>"
      ]
     },
     "metadata": {},
     "output_type": "display_data"
    }
   ],
   "source": [
    "test_canvas = CanvasEngine().sameple_canvas()[0]\n",
    "objs1 = ObE.sample_objs_by_bound_area(n=1, rainbow_prob=0.2, \n",
    "                                      w_lim=3, h_lim=3)\n",
    "_ = test_canvas.render(minimum_cover=False)\n",
    "results = test_canvas.placement(objs1[0])\n",
    "if results == -1:\n",
    "    logger.info(\"Placement step failed! Please rerun!\")\n",
    "else:\n",
    "    objs2 = ObE.sample_objs_with_reactangle(n=1, thickness=1, rainbow_prob=0.3, \n",
    "                                              w_lims=[8,8], h_lims=[8,8])\n",
    "    results = test_canvas.placement(objs2[0], to_relate_objs=[0], placement_rule=\"IsOutside\")\n",
    "    if results == -1:\n",
    "        logger.info(\"Placement step failed! Please rerun!\")\n",
    "    else:\n",
    "        test_canvas.render(minimum_cover=False)\n",
    "        \n",
    "test_canvas.parse_relations() # this also parse the relations for your automatically!"
   ]
  },
  {
   "cell_type": "markdown",
   "metadata": {},
   "source": [
    "### BabyARC Canvas\n",
    "This is the dataset class where you can sample canvas in a much higher level!"
   ]
  },
  {
   "cell_type": "code",
   "execution_count": 9,
   "metadata": {},
   "outputs": [
    {
     "name": "stderr",
     "output_type": "stream",
     "text": [
      "2021-03-21 01:18 Creating new BabyARC dataset by loading in pretrained objects.\n",
      "2021-03-21 01:18 Loading the object engine and canvas engine with a limit of object number {object_limit}, background_color={int(dataset_background_color)}.\n",
      "2021-03-21 01:18 Original obj count = 500\n",
      "2021-03-21 01:18 Iso obj count = 51\n"
     ]
    }
   ],
   "source": [
    "demo_dataset = \\\n",
    "    BabyARCDataset(pretrained_obj_cache=os.path.join(tmp_data_dirname, 'arc_objs.pt'),\n",
    "                   save_directory=\"./BabyARCDataset/\", \n",
    "                   object_limit=500, noise_level=0)"
   ]
  },
  {
   "cell_type": "code",
   "execution_count": 17,
   "metadata": {},
   "outputs": [
    {
     "data": {
      "image/png": "[encoded data removed]",
      "text/plain": [
       "<Figure size 432x288 with 1 Axes>"
      ]
     },
     "metadata": {},
     "output_type": "display_data"
    }
   ],
   "source": [
    "canvas_dict = demo_dataset.sample_single_canvas_by_core_edges(\n",
    "    OrderedDict([(('obj_0', 'obj_1'), 'IsInside'), \n",
    "                 (('obj_2', 'obj_1'), 'SameAll'), \n",
    "                 (('obj_2', 'obj_3'), 'SameCol')]))"
   ]
  },
  {
   "cell_type": "code",
   "execution_count": 18,
   "metadata": {},
   "outputs": [
    {
     "data": {
      "text/plain": [
       "OrderedDict([('id_object_map',\n",
       "              OrderedDict([(0,\n",
       "                            tensor([[2., 5., 5., 1., 2., 8., 2., 7.],\n",
       "                                    [6., 0., 0., 0., 0., 0., 0., 3.],\n",
       "                                    [6., 0., 0., 0., 0., 0., 0., 4.],\n",
       "                                    [3., 0., 0., 0., 0., 0., 0., 1.],\n",
       "                                    [5., 0., 0., 0., 0., 0., 0., 9.],\n",
       "                                    [4., 0., 0., 0., 0., 0., 0., 8.],\n",
       "                                    [9., 8., 9., 5., 9., 6., 5., 4.]])),\n",
       "                           (1,\n",
       "                            tensor([[8., 5.],\n",
       "                                    [6., 0.]])),\n",
       "                           (2,\n",
       "                            tensor([[2., 5., 5., 1., 2., 8., 2., 7.],\n",
       "                                    [6., 0., 0., 0., 0., 0., 0., 3.],\n",
       "                                    [6., 0., 0., 0., 0., 0., 0., 4.],\n",
       "                                    [3., 0., 0., 0., 0., 0., 0., 1.],\n",
       "                                    [5., 0., 0., 0., 0., 0., 0., 9.],\n",
       "                                    [4., 0., 0., 0., 0., 0., 0., 8.],\n",
       "                                    [9., 8., 9., 5., 9., 6., 5., 4.]])),\n",
       "                           (3,\n",
       "                            tensor([[8., 8., 8., 8., 8., 8., 8., 8.],\n",
       "                                    [8., 8., 8., 8., 8., 8., 8., 8.],\n",
       "                                    [8., 8., 8., 8., 8., 8., 8., 8.],\n",
       "                                    [8., 8., 8., 8., 8., 8., 8., 8.],\n",
       "                                    [8., 8., 8., 8., 8., 8., 8., 8.]]))])),\n",
       "             ('id_position_map',\n",
       "              OrderedDict([(0, tensor([9, 2])),\n",
       "                           (1, tensor([12,  5])),\n",
       "                           (2, tensor([11, 13])),\n",
       "                           (3, tensor([ 5, 13]))])),\n",
       "             ('background_color', 0),\n",
       "             ('node_id_map',\n",
       "              OrderedDict([('obj_1', 0),\n",
       "                           ('obj_0', 1),\n",
       "                           ('obj_2', 2),\n",
       "                           ('obj_3', 3)])),\n",
       "             ('partial_relation_edges',\n",
       "              OrderedDict([(('obj_0', 'obj_1'), 'IsInside'),\n",
       "                           (('obj_2', 'obj_1'), 'SameAll'),\n",
       "                           (('obj_2', 'obj_3'), 'SameCol')])),\n",
       "             ('image_t',\n",
       "              tensor([[0., 0., 0., 0., 0., 0., 0., 0., 0., 0., 0., 0., 0., 0., 0., 0., 0., 0.,\n",
       "                       0., 0., 0., 0., 0., 0., 0., 0., 0., 0., 0.],\n",
       "                      [0., 0., 0., 0., 0., 0., 0., 0., 0., 0., 0., 0., 0., 0., 0., 0., 0., 0.,\n",
       "                       0., 0., 0., 0., 0., 0., 0., 0., 0., 0., 0.],\n",
       "                      [0., 0., 0., 0., 0., 0., 0., 0., 0., 0., 0., 0., 0., 0., 0., 0., 0., 0.,\n",
       "                       0., 0., 0., 0., 0., 0., 0., 0., 0., 0., 0.],\n",
       "                      [0., 0., 0., 0., 0., 0., 0., 0., 0., 0., 0., 0., 0., 0., 0., 0., 0., 0.,\n",
       "                       0., 0., 0., 0., 0., 0., 0., 0., 0., 0., 0.],\n",
       "                      [0., 0., 0., 0., 0., 0., 0., 0., 0., 0., 0., 0., 0., 0., 0., 0., 0., 0.,\n",
       "                       0., 0., 0., 0., 0., 0., 0., 0., 0., 0., 0.],\n",
       "                      [0., 0., 0., 0., 0., 0., 0., 0., 0., 0., 0., 0., 0., 8., 8., 8., 8., 8.,\n",
       "                       8., 8., 8., 0., 0., 0., 0., 0., 0., 0., 0.],\n",
       "                      [0., 0., 0., 0., 0., 0., 0., 0., 0., 0., 0., 0., 0., 8., 8., 8., 8., 8.,\n",
       "                       8., 8., 8., 0., 0., 0., 0., 0., 0., 0., 0.],\n",
       "                      [0., 0., 0., 0., 0., 0., 0., 0., 0., 0., 0., 0., 0., 8., 8., 8., 8., 8.,\n",
       "                       8., 8., 8., 0., 0., 0., 0., 0., 0., 0., 0.],\n",
       "                      [0., 0., 0., 0., 0., 0., 0., 0., 0., 0., 0., 0., 0., 8., 8., 8., 8., 8.,\n",
       "                       8., 8., 8., 0., 0., 0., 0., 0., 0., 0., 0.],\n",
       "                      [0., 0., 2., 5., 5., 1., 2., 8., 2., 7., 0., 0., 0., 8., 8., 8., 8., 8.,\n",
       "                       8., 8., 8., 0., 0., 0., 0., 0., 0., 0., 0.],\n",
       "                      [0., 0., 6., 0., 0., 0., 0., 0., 0., 3., 0., 0., 0., 0., 0., 0., 0., 0.,\n",
       "                       0., 0., 0., 0., 0., 0., 0., 0., 0., 0., 0.],\n",
       "                      [0., 0., 6., 0., 0., 0., 0., 0., 0., 4., 0., 0., 0., 2., 5., 5., 1., 2.,\n",
       "                       8., 2., 7., 0., 0., 0., 0., 0., 0., 0., 0.],\n",
       "                      [0., 0., 3., 0., 0., 8., 5., 0., 0., 1., 0., 0., 0., 6., 0., 0., 0., 0.,\n",
       "                       0., 0., 3., 0., 0., 0., 0., 0., 0., 0., 0.],\n",
       "                      [0., 0., 5., 0., 0., 6., 0., 0., 0., 9., 0., 0., 0., 6., 0., 0., 0., 0.,\n",
       "                       0., 0., 4., 0., 0., 0., 0., 0., 0., 0., 0.],\n",
       "                      [0., 0., 4., 0., 0., 0., 0., 0., 0., 8., 0., 0., 0., 3., 0., 0., 0., 0.,\n",
       "                       0., 0., 1., 0., 0., 0., 0., 0., 0., 0., 0.],\n",
       "                      [0., 0., 9., 8., 9., 5., 9., 6., 5., 4., 0., 0., 0., 5., 0., 0., 0., 0.,\n",
       "                       0., 0., 9., 0., 0., 0., 0., 0., 0., 0., 0.],\n",
       "                      [0., 0., 0., 0., 0., 0., 0., 0., 0., 0., 0., 0., 0., 4., 0., 0., 0., 0.,\n",
       "                       0., 0., 8., 0., 0., 0., 0., 0., 0., 0., 0.],\n",
       "                      [0., 0., 0., 0., 0., 0., 0., 0., 0., 0., 0., 0., 0., 9., 8., 9., 5., 9.,\n",
       "                       6., 5., 4., 0., 0., 0., 0., 0., 0., 0., 0.],\n",
       "                      [0., 0., 0., 0., 0., 0., 0., 0., 0., 0., 0., 0., 0., 0., 0., 0., 0., 0.,\n",
       "                       0., 0., 0., 0., 0., 0., 0., 0., 0., 0., 0.],\n",
       "                      [0., 0., 0., 0., 0., 0., 0., 0., 0., 0., 0., 0., 0., 0., 0., 0., 0., 0.,\n",
       "                       0., 0., 0., 0., 0., 0., 0., 0., 0., 0., 0.],\n",
       "                      [0., 0., 0., 0., 0., 0., 0., 0., 0., 0., 0., 0., 0., 0., 0., 0., 0., 0.,\n",
       "                       0., 0., 0., 0., 0., 0., 0., 0., 0., 0., 0.],\n",
       "                      [0., 0., 0., 0., 0., 0., 0., 0., 0., 0., 0., 0., 0., 0., 0., 0., 0., 0.,\n",
       "                       0., 0., 0., 0., 0., 0., 0., 0., 0., 0., 0.]]))])"
      ]
     },
     "execution_count": 18,
     "metadata": {},
     "output_type": "execute_result"
    }
   ],
   "source": [
    "canvas_dict"
   ]
  },
  {
   "cell_type": "markdown",
   "metadata": {},
   "source": [
    "### Operators\n"
   ]
  },
  {
   "cell_type": "code",
   "execution_count": 157,
   "metadata": {},
   "outputs": [],
   "source": [
    "class OperatorEngine(object):\n",
    "    \n",
    "    # DSLs for operators\n",
    "    ARG_TYPES = {\"$OBJ\", \"$NUMERIC\", \"$WHOLE\", \"$POSITION\"} # <- produced by selector\n",
    "    OPERATORS = {\n",
    "        \"@IDENTITY\" : \"$OBJ|$WHOLE\",\n",
    "        \"@ROTATION\" : \"$OBJ&$NUMERIC|$WHOLE&$NUMERIC\",\n",
    "        \"@FLIP\" : \"$OBJ&$NUMERIC|$WHOLE&$NUMERIC\",\n",
    "        \"@DRAWLINE\" : \"$POSITION&$POSITION&$NUMERIC\",\n",
    "        \"@DRAW\" : \"$POSITION&$NUMERIC\",\n",
    "        \"@DRAWPATTERN\" : \"$POSITION&$NUMERIC\",\n",
    "        \"@MOVE\" : \"$OBJ&$POSITION\",\n",
    "        \"@COMBINED\" : \"$OBJ\", \n",
    "        \"@REMAINDER\" : \"$OBJ\",\n",
    "        \"@SORT\" : \"$OBJ&$NUMERIC\",\n",
    "        \"@OUT\" : \"$NUMERIC|$OBJ|$WHOLE\",\n",
    "        \"@IN\" : \"$WHOLE\"\n",
    "    }\n",
    "    SELECTORS = {\n",
    "        \"$OBJ\" : [\"$SELECTOR_PATTERN\", \"$SELECTOR_ALL\", \"$SELECTOR_EXTREME\"], \n",
    "        \"$WHOLE\" : [\"$SELECTOR_WHOLE\"],\n",
    "        \"$NUMERIC\" : [\"$OBJ^$SELECTOR_COLOR_COUNT\", \"$OBJ^$SELECTOR_OBJ_COUNT\", \n",
    "                      \"$OBJ^$SELECTOR_PIXEL_COUNT\", \"$OBJ^$SELECTOR_COLOR\", \n",
    "                      \"$OBJ^$SELECTOR_RANDOM\", \"$OBJ^$SELECTOR_PARTIAL_POSITION\"],\n",
    "        \"$POSITION\" : [\"$OBJ^$SELECTOR_POSITION\"]\n",
    "    }\n",
    "    \n",
    "    def __init__(self):\n",
    "        pass\n",
    "    \n",
    "    def get_relation_nbrs(self, node, edges):\n",
    "        for k, v in edges.items():\n",
    "            if k[0] == node:\n",
    "                if v == \"Attr\":\n",
    "                    yield (k[1], v)\n",
    "                else:\n",
    "                    yield (v,)\n",
    "\n",
    "    def dfs_path_helper(self, curr_node, curr_path, result, edges, k=3):\n",
    "        if len(curr_path) != 0:\n",
    "            result.add(tuple(copy.deepcopy(curr_path)))\n",
    "        if len(curr_path) == 3:\n",
    "            return\n",
    "        \n",
    "        for nbr in self.get_relation_nbrs(curr_node, edges):\n",
    "            if nbr not in curr_path:\n",
    "                curr_path.append(nbr)\n",
    "                self.dfs_path_helper(nbr, curr_path, result, edges, k=k)\n",
    "                curr_path.pop()\n",
    "        \n",
    "    def dfs_path(self, root, edges, k=3):\n",
    "        results = set([])\n",
    "        self.dfs_path_helper(root, [], results, edges, k=k)\n",
    "        return results\n",
    "    \n",
    "    def _consolidate_patterns_within_canvas(self, obj_paths):\n",
    "        reversed_patterns = OrderedDict({})\n",
    "        object_pool = []\n",
    "        for k, _ in obj_paths.items():\n",
    "            object_pool.append(k)\n",
    "\n",
    "        for i in range(len(object_pool)):\n",
    "            obj_i = object_pool[i]\n",
    "            obj_i_path = obj_paths[obj_i]\n",
    "            for path in obj_i_path:\n",
    "                matched = False\n",
    "                for k, v in reversed_patterns.items():\n",
    "                    # consolidate in\n",
    "                    if k == path:\n",
    "                        reversed_patterns[path].add(obj_i[0]) # this is only for a single obj\n",
    "                        matched = True\n",
    "                        break\n",
    "                # adding this to the reversed pattern mapping as well\n",
    "                if not matched:\n",
    "                    reversed_patterns[path] = set([obj_i[0]])\n",
    "        return reversed_patterns\n",
    "    \n",
    "    def get_obj_dfs_path(self, canvas, k=3):\n",
    "        # extrapolate the relation to be bidirectional for all relations\n",
    "        relation_edges = canvas.partial_relation_edges\n",
    "        relation_edges_copy = copy.deepcopy(relation_edges)\n",
    "        for k, v in relation_edges.items():\n",
    "            if v != \"Attr\" and v != \"IsInside\": # IsInside is not permutable here!\n",
    "                relation_edges_copy[(k[1], k[0])] = v\n",
    "        parsed_relation_edges = canvas.parse_relations()\n",
    "        for k, v in parsed_relation_edges.items():\n",
    "            if v == \"Attr\":\n",
    "                relation_edges_copy[(canvas.id_node_map[k[0]], k[1])] = v\n",
    "            else:\n",
    "                relation_edges_copy[(canvas.id_node_map[k[0]], canvas.id_node_map[k[1]])] = v\n",
    "        \n",
    "        # loop through each obj\n",
    "        obj_paths = OrderedDict({})\n",
    "        common_in = None\n",
    "        for k, v in canvas.id_node_map.items():\n",
    "            v_paths = self.dfs_path(v, relation_edges_copy, k=k)\n",
    "            if common_in == None:\n",
    "                common_in = v_paths\n",
    "            else:\n",
    "                common_in = common_in.intersection(v_paths)\n",
    "            obj_paths[tuple([v])] = v_paths\n",
    "        for k, v in obj_paths.items():\n",
    "            obj_paths[k] = v - common_in\n",
    "        return self._consolidate_patterns_within_canvas(obj_paths) # return consolidated paths\n",
    "    \n",
    "    # List of Selectors\n",
    "    \n",
    "    # Pattern. Prior: Object, Relation\n",
    "    def select_by_common_referred_patterns(self, canvas_list):\n",
    "        \"\"\"\n",
    "        extract patterns exist \n",
    "        \"\"\"\n",
    "        common_referred = None\n",
    "        for canvas in canvas_list:\n",
    "            if common_referred == None:\n",
    "                common_referred = self.get_obj_dfs_path(canvas)\n",
    "                # turning value into 2d list to contain multiple canvas information\n",
    "                flatten_common_referred = OrderedDict({})\n",
    "                for k, v in common_referred.items():\n",
    "                    flatten_common_referred[k] = [v]\n",
    "                common_referred = flatten_common_referred\n",
    "            else:\n",
    "                new_common_referred = OrderedDict({})\n",
    "                current_referred = self.get_obj_dfs_path(canvas) # we dont have to flatten it!\n",
    "                for path_common, objs_common in common_referred.items():\n",
    "                    for path_current, objs_current in current_referred.items():\n",
    "                        if path_common == path_current:\n",
    "                            new_common_referred[path_common] = []\n",
    "                            new_common_referred[path_common].extend(objs_common)\n",
    "                            # common path shared across two canvas\n",
    "                            new_common_referred[path_common].append(objs_current)\n",
    "                common_referred = copy.deepcopy(new_common_referred)\n",
    "        selectors = []\n",
    "        # return potential selectors as a 2d list, same length as the canvas\n",
    "        for _, v in common_referred.items():\n",
    "            # we ignore the keys here for significant reasons.\n",
    "            # we don't want to explicity expose the relations to \n",
    "            # users.\n",
    "            ss = []\n",
    "            for e in v:\n",
    "                ss += [list(e)]\n",
    "            selectors += [ss]\n",
    "        return selectors\n",
    "\n",
    "    # Boundary. Prior: Object, Boundary\n",
    "    def select_by_boundary_prior(self, canvas_list):\n",
    "        pass\n",
    "    \n",
    "    # Size. Prior: Object, Size\n",
    "    def select_by_extreme_size(self, canvas_list):\n",
    "        pass\n",
    "    \n",
    "    # Size. Prior: Object, Space\n",
    "    def select_by_extreme_position(self, canvas_list):\n",
    "        pass\n",
    "    \n",
    "    # Size. Prior: Object, Algebra, Compositions\n",
    "    def select_by_pixel_count(self, canvas_list):\n",
    "        pass\n",
    "    \n",
    "    def get_exclude_colors(self, canvas_list, objs_list=[]):\n",
    "        pass\n",
    "    \n",
    "    \"\"\"\n",
    "    basic operators\n",
    "    \"Identity\", \"hFlip\", \"vFlip\", \"RotateA\", \"RotateB\", \"RotateC\", \"DiagFlipA\", \"DiagFlipB\"\n",
    "    \"\"\"\n",
    "    def operator_by_basic(self, canvas_list, objs_list=[], operator=\"hFlip\"):\n",
    "        pass\n",
    "\n",
    "    def _sample_operator_combination(self, k=2, middle=True):\n",
    "        avaliable_operators = set(list(self.OPERATORS.keys()))\n",
    "        if middle:\n",
    "            avaliable_operators = avaliable_operators - {\"@OUT\", \"@IN\"}\n",
    "        if k > 1:\n",
    "            avaliable_operators = avaliable_operators - {\"@COMBINED\", \"@REMAINDER\", \"@SORT\"}\n",
    "        existing_operators = list(avaliable_operators)\n",
    "        operator_permutator = []\n",
    "        for i in range(k):\n",
    "            operator_permutator.append(copy.deepcopy(existing_operators))\n",
    "        operator_permutations = product(*operator_permutator)\n",
    "        operator_combinations = []\n",
    "        for perm in operator_permutations:\n",
    "            if len(set(perm)) == len(perm): # non-repeat\n",
    "                operator_combinations.append(perm)\n",
    "        return operator_combinations \n",
    "    \n",
    "    def _graph_convertor(self, flatten_graph):\n",
    "        graph = OrderedDict({})\n",
    "        for k, v in flatten_graph.items():\n",
    "            if v in graph.keys():\n",
    "                graph[v].append(k)\n",
    "            else:\n",
    "                graph[v] = [k]\n",
    "        return graph\n",
    "\n",
    "    def sample_operator_graph(self, max_width=2, max_depth=3, flatten=True):\n",
    "        level_permutator = []\n",
    "        for i in range(1, max_depth+1):\n",
    "            width_list = [j for j in range(1, max_width+1)]\n",
    "            level_permutator.append(width_list)\n",
    "        level_permutations = product(*level_permutator)\n",
    "        operator_graphs = []\n",
    "        for perm in level_permutations:\n",
    "            # add in actual operators\n",
    "            operator_perms = []\n",
    "            for k in perm:\n",
    "                operator_perms.append(_sample_operator_combination(k=k, middle=True))\n",
    "            graph_permutations = product(*operator_perms)\n",
    "            for graph_perm in graph_permutations:\n",
    "                graph = OrderedDict({})\n",
    "                graph[\"0->@IN\"] = 0 # default beginning will be the input\n",
    "                level_count = 1\n",
    "                for steps in graph_perm:\n",
    "                    for step in steps:\n",
    "                        op_args = OPERATORS[step]\n",
    "                        op_args = op_args.split(\"|\")\n",
    "                        op_arg = random.sample(op_args, k=1)[0] # using randomness to control\n",
    "                        sub_args = op_arg.split(\"&\") # we now need to add in selectors\n",
    "                        op_arg_substantiate = []\n",
    "                        for s_a in sub_args:\n",
    "                            temp = random.sample(self.SELECTORS[s_a], k=1)[0]\n",
    "                            # we need to replace recursive ones\n",
    "                            if \"$OBJ\" in temp:\n",
    "                                temp = re.sub('\\$OBJ', random.sample(self.SELECTORS[\"$OBJ\"], k=1)[0], temp) \n",
    "                            op_arg_substantiate.append(temp)\n",
    "                        op_arg_substantiate = \"&\".join(op_arg_substantiate)\n",
    "                        op_arg_substantiate = f\"{op_arg_substantiate}->{op_arg}\"\n",
    "                        graph[f\"{level_count}->{step} {op_arg_substantiate}\"] = level_count\n",
    "                    level_count += 1\n",
    "                # adding potential out\n",
    "                op_args = self.OPERATORS[\"@OUT\"]\n",
    "                op_args = op_args.split(\"|\")\n",
    "                op_arg = random.sample(op_args, k=1)[0]\n",
    "                out_selector = random.sample(self.SELECTORS[op_arg], k=1)[0]\n",
    "                if \"$OBJ\" in out_selector:\n",
    "                    out_selector = re.sub('\\$OBJ', random.sample(self.SELECTORS[\"$OBJ\"], k=1)[0], out_selector) \n",
    "                graph[f\"{level_count}->@OUT {out_selector}\"] = level_count # default output layer\n",
    "                if flatten:\n",
    "                    operator_graphs.append(copy.deepcopy(graph))\n",
    "                else:\n",
    "                    operator_graphs.append(copy.deepcopy(self._graph_convertor(graph)))\n",
    "        return operator_graphs"
   ]
  },
  {
   "cell_type": "code",
   "execution_count": 39,
   "metadata": {},
   "outputs": [
    {
     "data": {
      "image/png": "[encoded data removed]",
      "text/plain": [
       "<Figure size 432x288 with 1 Axes>"
      ]
     },
     "metadata": {},
     "output_type": "display_data"
    }
   ],
   "source": [
    "task_dict1 = demo_dataset.sample_single_canvas_by_core_edges(OrderedDict([(('obj_0', 'obj_1'), 'IsInside'), \n",
    "                                                            (('obj_2', 'obj_1'), 'SameAll'), \n",
    "                                                            (('obj_2', 'obj_3'), 'SameCol')]))\n",
    "canvas1 = Canvas(repre_dict=task_dict1)"
   ]
  },
  {
   "cell_type": "code",
   "execution_count": 57,
   "metadata": {},
   "outputs": [
    {
     "data": {
      "text/plain": [
       "OrderedDict([((0, 'pos_[6,10]'), 'Attr'),\n",
       "             ((1, 'color_[2]'), 'Attr'),\n",
       "             ((1, 'pos_[9,12]'), 'Attr'),\n",
       "             ((2, 'pos_[13,1]'), 'Attr'),\n",
       "             ((3, 'pos_[21,1]'), 'Attr'),\n",
       "             ((0, 2), 'SameAll'),\n",
       "             ((2, 0), 'SameAll'),\n",
       "             ((1, 0), 'IsInside'),\n",
       "             ((2, 3), 'SameCol'),\n",
       "             ((3, 2), 'SameCol')])"
      ]
     },
     "execution_count": 57,
     "metadata": {},
     "output_type": "execute_result"
    }
   ],
   "source": [
    "canvas1.parse_relations()"
   ]
  },
  {
   "cell_type": "code",
   "execution_count": 66,
   "metadata": {},
   "outputs": [
    {
     "data": {
      "text/plain": [
       "[[['obj_2', 'obj_1'], ['obj_2', 'obj_1']],\n",
       " [['obj_1'], ['obj_1']],\n",
       " [['obj_0'], ['obj_0']],\n",
       " [['obj_2', 'obj_3'], ['obj_2', 'obj_3']]]"
      ]
     },
     "execution_count": 66,
     "metadata": {},
     "output_type": "execute_result"
    }
   ],
   "source": [
    "OperatorEngine().select_by_common_referred_patterns([canvas1, canvas2])"
   ]
  },
  {
   "cell_type": "code",
   "execution_count": 27,
   "metadata": {},
   "outputs": [
    {
     "data": {
      "image/png": "[encoded data removed]",
      "text/plain": [
       "<Figure size 432x288 with 1 Axes>"
      ]
     },
     "metadata": {},
     "output_type": "display_data"
    }
   ],
   "source": [
    "task_dict2 = demo_dataset.sample_single_canvas_by_core_edges(OrderedDict([(('obj_0', 'obj_1'), 'IsInside'), \n",
    "                                                            (('obj_2', 'obj_1'), 'SameAll'), \n",
    "                                                            (('obj_2', 'obj_3'), 'SameCol')]))\n",
    "canvas2 = Canvas(repre_dict=task_dict2)"
   ]
  },
  {
   "cell_type": "code",
   "execution_count": 31,
   "metadata": {},
   "outputs": [],
   "source": [
    "a = OrderedDict([(('obj_1',),\n",
    "              {(('IsInside',),), (('SameAll',),), (('pos_[6,5]', 'Attr'),)}),\n",
    "             (('obj_0',), {(('IsInside',),), (('pos_[8,7]', 'Attr'),)}),\n",
    "             (('obj_2',),\n",
    "              {(('SameAll',),), (('SameCol',),), (('pos_[19,3]', 'Attr'),)}),\n",
    "             (('obj_3',), {(('SameCol',),), (('pos_[14,3]', 'Attr'),)})])"
   ]
  },
  {
   "cell_type": "code",
   "execution_count": 158,
   "metadata": {},
   "outputs": [],
   "source": [
    "graphs = OperatorEngine().sample_operator_graph(flatten=False)"
   ]
  },
  {
   "cell_type": "code",
   "execution_count": 159,
   "metadata": {},
   "outputs": [
    {
     "name": "stdout",
     "output_type": "stream",
     "text": [
      "OrderedDict([   (0, ['0->@IN']),\n",
      "                (   1,\n",
      "                    [   '1->@FLIP '\n",
      "                        '$SELECTOR_WHOLE&$SELECTOR_PATTERN^$SELECTOR_PARTIAL_POSITION->$WHOLE&$NUMERIC']),\n",
      "                (   2,\n",
      "                    [   '2->@FLIP '\n",
      "                        '$SELECTOR_PATTERN&$SELECTOR_ALL^$SELECTOR_COLOR_COUNT->$OBJ&$NUMERIC',\n",
      "                        '2->@ROTATION '\n",
      "                        '$SELECTOR_WHOLE&$SELECTOR_PATTERN^$SELECTOR_RANDOM->$WHOLE&$NUMERIC']),\n",
      "                (   3,\n",
      "                    [   '3->@DRAWPATTERN '\n",
      "                        '$SELECTOR_PATTERN^$SELECTOR_POSITION&$SELECTOR_EXTREME^$SELECTOR_PARTIAL_POSITION->$POSITION&$NUMERIC',\n",
      "                        '3->@DRAW '\n",
      "                        '$SELECTOR_PATTERN^$SELECTOR_POSITION&$SELECTOR_ALL^$SELECTOR_PARTIAL_POSITION->$POSITION&$NUMERIC']),\n",
      "                (4, ['4->@OUT $SELECTOR_WHOLE'])])\n"
     ]
    }
   ],
   "source": [
    "pp.pprint(graphs[12000])"
   ]
  },
  {
   "cell_type": "code",
   "execution_count": 18,
   "metadata": {},
   "outputs": [],
   "source": [
    "# load operators, and generate sample outputs!"
   ]
  },
  {
   "cell_type": "markdown",
   "metadata": {},
   "source": [
    "### BabyARC in Actions: Generate Outputs"
   ]
  },
  {
   "cell_type": "code",
   "execution_count": 19,
   "metadata": {},
   "outputs": [],
   "source": [
    "# generate a full example with BabyARC!"
   ]
  }
 ],
 "metadata": {
  "kernelspec": {
   "display_name": "Python 3",
   "language": "python",
   "name": "python3"
  },
  "language_info": {
   "codemirror_mode": {
    "name": "ipython",
    "version": 3
   },
   "file_extension": ".py",
   "mimetype": "text/x-python",
   "name": "python",
   "nbconvert_exporter": "python",
   "pygments_lexer": "ipython3",
   "version": "3.7.3"
  }
 },
 "nbformat": 4,
 "nbformat_minor": 4
}
