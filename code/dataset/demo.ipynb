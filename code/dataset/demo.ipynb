{
 "cells": [
  {
   "cell_type": "code",
   "execution_count": 1,
   "metadata": {},
   "outputs": [],
   "source": [
    "import os\n",
    "import torch\n",
    "from collections import Counter, OrderedDict\n",
    "from operator import itemgetter\n",
    "import random\n",
    "from random import sample\n",
    "import numpy as np\n",
    "import json\n",
    "from collections import OrderedDict\n",
    "import pickle\n",
    "import matplotlib.pylab as plt\n",
    "from functools import partial\n",
    "import pprint\n",
    "import hashlib\n",
    "import copy\n",
    "import sys\n",
    "import math\n",
    "from copy import deepcopy\n",
    "import hashlib\n",
    "import uuid \n",
    "import ast\n",
    "# Baby-ARC related imports\n",
    "from constants import *\n",
    "from utils import *\n",
    "from objects import *\n",
    "from operator import *\n",
    "from canvas import *\n",
    "from dataset import *\n",
    "from itertools import product\n",
    "import re\n",
    "# random seeds\n",
    "seed = 42\n",
    "random.seed(seed)\n",
    "np.random.seed(seed)\n",
    "torch.manual_seed(seed)\n",
    "\n",
    "# global vars\n",
    "RUN_AS_CREATOR = False\n",
    "ARC_OBJ_LOADED = False\n",
    "DEMO_MAX_ARC_OBJS = 500\n",
    "pp = pprint.PrettyPrinter(indent=4)\n",
    "\n",
    "import logging\n",
    "FORMAT = \"%(asctime)-15s %(message)s\"\n",
    "logging.basicConfig(format=FORMAT, level=logging.DEBUG,\n",
    "                    datefmt=\"%Y-%m-%d %H:%M\")\n",
    "logger = logging.getLogger(__name__)\n",
    "\n",
    "if RUN_AS_CREATOR:\n",
    "    logger.info(\"WARNING: You are using this a creator of BabyARC, it assumes you install all dependencies!\")\n",
    "    logger.info(\"If you are not the creator, please disable this. All functionalities of recreating the dataset is still here!\")\n",
    "tmp_data_dirname = \"../../../../concept_env/datasets\" # Using your own directory!"
   ]
  },
  {
   "cell_type": "markdown",
   "metadata": {},
   "source": [
    "### Collect Objects from the ARC dataset\n",
    "**WARNING:** This will fail, please use our pre-collected arc object files. We made this avaliable. The process of making this file involves hidden logics which will not be revealed. Currently, you can treat it as just a set of generated object pool!\n",
    "\n",
    "Details about the ARC can be found: https://github.com/fchollet/ARC. Note that you only have to run this one time, it will generate a file and save to the output directory. Later, you can simply use it! "
   ]
  },
  {
   "cell_type": "code",
   "execution_count": 2,
   "metadata": {},
   "outputs": [
    {
     "name": "stderr",
     "output_type": "stream",
     "text": [
      "2021-03-28 00:43 SUCCESS! You loaded the pre-collected object file from ARC!\n"
     ]
    }
   ],
   "source": [
    "if RUN_AS_CREATOR:\n",
    "    training_objs = []\n",
    "    for filename in os.listdir(arc_data_train_path):\n",
    "        if filename.endswith(\".json\"):\n",
    "            print(\"extracting objs from task: \", filename)\n",
    "            training_objs.extend(single_task_obj_parser(filename.split(\".\")[0]))\n",
    "    # we only need to parse once, and save it to the disk\n",
    "    torch.save(training_objs, os.path.join(tmp_data_dirname, 'arc_objs.pt'))\n",
    "else:\n",
    "    try:\n",
    "        arc_objs = torch.load(os.path.join(tmp_data_dirname, 'arc_objs.pt'))\n",
    "        logger.info(\"SUCCESS! You loaded the pre-collected object file from ARC!\")\n",
    "        ARC_OBJ_LOADED = True\n",
    "    except:\n",
    "        logger.info(\"Please check if obejct file in the directory indicated above!\")\n",
    "        logger.info(f\"WARNING: Please get those pre-collected ARC objects in {os.path.join(tmp_data_dirname, 'arc_objs.pt')}!\")\n",
    "        logger.info(\"You can download this file from: https://drive.google.com/file/d/1dZhT1cUFGvivJbSTwnqjou2uilLXffGY/view?usp=sharing\")"
   ]
  },
  {
   "cell_type": "markdown",
   "metadata": {},
   "source": [
    "### Pre-checks before moving forward with the Demo!\n",
    "\n",
    "These are some prechecks we enforced to ensure good user experience with this Demo! Please make sure you pass the test!"
   ]
  },
  {
   "cell_type": "code",
   "execution_count": 3,
   "metadata": {},
   "outputs": [
    {
     "name": "stderr",
     "output_type": "stream",
     "text": [
      "2021-03-23 13:55 PASSED!\n"
     ]
    }
   ],
   "source": [
    "if not ARC_OBJ_LOADED or RUN_AS_CREATOR:\n",
    "    logger.info(\"FAILED! Resolve issues before moving forward with this Demo file!\")\n",
    "else:\n",
    "    logger.info(\"PASSED!\")"
   ]
  },
  {
   "cell_type": "markdown",
   "metadata": {},
   "source": [
    "### Object Engine"
   ]
  },
  {
   "cell_type": "code",
   "execution_count": 4,
   "metadata": {},
   "outputs": [
    {
     "name": "stderr",
     "output_type": "stream",
     "text": [
      "2021-03-23 13:55 Original obj count = 500\n",
      "2021-03-23 13:55 Iso obj count = 51\n"
     ]
    }
   ],
   "source": [
    "ObE = ObjectEngine(arc_objs[:DEMO_MAX_ARC_OBJS])\n",
    "# Below the log, it should shows how many objects it loads.\n",
    "# Iso obj means the count of unique objects (considering rotations, color permutations, etc..)\n",
    "_ = ObE.sample_objs_by_fixed_width()\n",
    "# If no error, that means you successfully sampled an object!"
   ]
  },
  {
   "cell_type": "markdown",
   "metadata": {},
   "source": [
    "### Canvas Engine\n",
    "You can now place different objects based on different relations if provided on the Canvas!"
   ]
  },
  {
   "cell_type": "code",
   "execution_count": 5,
   "metadata": {},
   "outputs": [
    {
     "data": {
      "image/png": "[encoded data removed]",
      "text/plain": [
       "<Figure size 432x288 with 1 Axes>"
      ]
     },
     "metadata": {},
     "output_type": "display_data"
    }
   ],
   "source": [
    "test_canvas = CanvasEngine().sameple_canvas()[0]\n",
    "objs1 = ObE.sample_objs_with_line(n=1, len_lims=[5,10], thickness=1, rainbow_prob=0.1, direction=\"h\")\n",
    "# Here is just one example with how you can sample different objects from the object engine!\n",
    "results = test_canvas.placement(objs1[0])\n",
    "if results == -1:\n",
    "    logger.info(\"Placement step failed! Please rerun!\")\n",
    "else:\n",
    "    test_canvas.render(minimum_cover=False)"
   ]
  },
  {
   "cell_type": "markdown",
   "metadata": {},
   "source": [
    "### BabyARC Canvas\n",
    "This is the dataset class where you can sample canvas in a much higher level!"
   ]
  },
  {
   "cell_type": "code",
   "execution_count": 29,
   "metadata": {},
   "outputs": [
    {
     "name": "stderr",
     "output_type": "stream",
     "text": [
      "2021-03-28 00:24 Creating new BabyARC dataset by loading in pretrained objects.\n",
      "2021-03-28 00:24 Loading the object engine and canvas engine with a limit of object number 1, background_color=0.\n",
      "2021-03-28 00:24 Original obj count = 1\n",
      "2021-03-28 00:24 Iso obj count = 1\n",
      "2021-03-28 00:24 Create BabyARC canvas with fixed width and height = 10.\n"
     ]
    }
   ],
   "source": [
    "demo_dataset = \\\n",
    "    BabyARCDataset(pretrained_obj_cache=os.path.join(tmp_data_dirname, 'arc_objs.pt'),\n",
    "                   save_directory=\"./BabyARCDataset/\", \n",
    "                   object_limit=1, noise_level=0, canvas_size=20)"
   ]
  },
  {
   "cell_type": "code",
   "execution_count": 14,
   "metadata": {},
   "outputs": [
    {
     "data": {
      "image/png": "[encoded data removed]",
      "text/plain": [
       "<Figure size 432x288 with 1 Axes>"
      ]
     },
     "metadata": {},
     "output_type": "display_data"
    }
   ],
   "source": [
    "canvas_dict = demo_dataset.sample_single_canvas_by_core_edges(\n",
    "    OrderedDict([(('obj_0', 'obj_1'), 'IsInside'), \n",
    "                 (('obj_2', 'obj_1'), 'SameAll'), \n",
    "                 (('obj_2', 'obj_3'), 'SameCol')]))"
   ]
  },
  {
   "cell_type": "markdown",
   "metadata": {},
   "source": [
    "### Operators\n"
   ]
  },
  {
   "cell_type": "code",
   "execution_count": 36,
   "metadata": {},
   "outputs": [],
   "source": [
    "demo_dataset = \\\n",
    "    BabyARCDataset(pretrained_obj_cache=os.path.join(tmp_data_dirname, 'arc_objs.pt'),\n",
    "                   save_directory=\"./BabyARCDataset/\", \n",
    "                   object_limit=1, noise_level=0, canvas_size=20)\n",
    "\n",
    "repre_dict_1 = demo_dataset.sample_single_canvas_by_core_edges(\n",
    "    OrderedDict([(('obj_0', 'line_[6,1,0]'), 'Attr'), \n",
    "                 (('obj_1', 'line_[7,1,1]'), 'Attr')]), \n",
    "    allow_connect=True, is_plot=False\n",
    ")\n",
    "in_canvas_1 = Canvas(\n",
    "    repre_dict=repre_dict_1\n",
    ")\n",
    "\n",
    "repre_dict_2 = demo_dataset.sample_single_canvas_by_core_edges(\n",
    "    OrderedDict([(('obj_0', 'line_[6,1,0]'), 'Attr'), \n",
    "                 (('obj_1', 'line_[7,1,1]'), 'Attr')]), \n",
    "    allow_connect=True, is_plot=False\n",
    ")\n",
    "in_canvas_2 = Canvas(\n",
    "    repre_dict=repre_dict_2\n",
    ")\n",
    "\n",
    "if in_canvas_1 == -1 or in_canvas_2 == -1:\n",
    "    print(\"CANVAS FAILED!\")\n",
    "\n",
    "out_canvas_list, _ = OperatorEngine().operate_rotate(\n",
    "    [in_canvas_1, in_canvas_2], [[\"obj_0\"], [\"obj_1\"]],\n",
    "    operator_tag=\"#ROTATE_3\", \n",
    "    allow_connect=True, allow_shape_break=False\n",
    ")\n",
    "if out_canvas_list == -1:\n",
    "    print(\"OPERATOR FAILED!\")"
   ]
  },
  {
   "cell_type": "code",
   "execution_count": 37,
   "metadata": {},
   "outputs": [
    {
     "data": {
      "text/plain": [
       "(tensor([[0., 0., 0., 0., 0., 0., 0., 0., 0., 0., 0., 0., 0., 0., 0., 0., 0., 0.,\n",
       "          0., 0.],\n",
       "         [0., 0., 0., 0., 0., 0., 0., 0., 0., 0., 0., 0., 0., 0., 0., 0., 0., 0.,\n",
       "          0., 0.],\n",
       "         [0., 0., 0., 0., 0., 0., 0., 0., 0., 0., 0., 0., 0., 0., 0., 0., 0., 0.,\n",
       "          0., 0.],\n",
       "         [0., 0., 0., 0., 0., 0., 0., 0., 0., 0., 0., 0., 0., 0., 0., 0., 0., 0.,\n",
       "          0., 0.],\n",
       "         [0., 0., 0., 0., 0., 0., 0., 0., 0., 0., 0., 0., 0., 0., 0., 0., 0., 0.,\n",
       "          0., 0.],\n",
       "         [0., 0., 0., 0., 0., 0., 0., 0., 0., 0., 0., 0., 0., 0., 0., 0., 0., 0.,\n",
       "          0., 0.],\n",
       "         [0., 0., 0., 0., 0., 0., 0., 0., 0., 0., 0., 0., 0., 0., 0., 0., 0., 0.,\n",
       "          0., 0.],\n",
       "         [0., 0., 0., 0., 0., 0., 0., 0., 0., 0., 0., 0., 0., 0., 0., 0., 0., 0.,\n",
       "          0., 0.],\n",
       "         [0., 0., 0., 0., 0., 0., 0., 0., 0., 0., 0., 0., 0., 0., 0., 0., 0., 0.,\n",
       "          0., 0.],\n",
       "         [0., 0., 0., 0., 0., 0., 0., 0., 0., 0., 0., 0., 0., 0., 0., 0., 0., 0.,\n",
       "          0., 0.],\n",
       "         [0., 0., 0., 0., 0., 0., 0., 0., 0., 0., 0., 0., 0., 0., 0., 0., 0., 0.,\n",
       "          0., 0.],\n",
       "         [0., 0., 0., 0., 0., 0., 0., 0., 0., 0., 0., 0., 0., 0., 0., 0., 0., 0.,\n",
       "          0., 0.],\n",
       "         [0., 0., 0., 7., 0., 0., 0., 0., 0., 0., 0., 0., 0., 0., 0., 0., 0., 0.,\n",
       "          0., 0.],\n",
       "         [0., 0., 0., 7., 0., 0., 0., 0., 0., 0., 8., 8., 8., 8., 8., 8., 8., 0.,\n",
       "          0., 0.],\n",
       "         [0., 0., 0., 7., 0., 0., 0., 0., 0., 0., 0., 0., 0., 0., 0., 0., 0., 0.,\n",
       "          0., 0.],\n",
       "         [0., 0., 0., 7., 0., 0., 0., 0., 0., 0., 0., 0., 0., 0., 0., 0., 0., 0.,\n",
       "          0., 0.],\n",
       "         [0., 0., 0., 7., 0., 0., 0., 0., 0., 0., 0., 0., 0., 0., 0., 0., 0., 0.,\n",
       "          0., 0.],\n",
       "         [0., 0., 0., 7., 0., 0., 0., 0., 0., 0., 0., 0., 0., 0., 0., 0., 0., 0.,\n",
       "          0., 0.],\n",
       "         [0., 0., 0., 0., 0., 0., 0., 0., 0., 0., 0., 0., 0., 0., 0., 0., 0., 0.,\n",
       "          0., 0.],\n",
       "         [0., 0., 0., 0., 0., 0., 0., 0., 0., 0., 0., 0., 0., 0., 0., 0., 0., 0.,\n",
       "          0., 0.]]),\n",
       " 0,\n",
       " 0)"
      ]
     },
     "execution_count": 37,
     "metadata": {},
     "output_type": "execute_result"
    },
    {
     "data": {
      "image/png": "[encoded data removed]",
      "text/plain": [
       "<Figure size 432x288 with 1 Axes>"
      ]
     },
     "metadata": {},
     "output_type": "display_data"
    }
   ],
   "source": [
    "in_canvas_1.render()"
   ]
  },
  {
   "cell_type": "code",
   "execution_count": 38,
   "metadata": {},
   "outputs": [
    {
     "data": {
      "text/plain": [
       "(tensor([[0., 0., 0., 0., 0., 0., 0., 0., 0., 0., 0., 0., 0., 0., 0., 0., 0., 0.,\n",
       "          0., 0.],\n",
       "         [0., 0., 0., 0., 0., 0., 0., 0., 0., 0., 0., 0., 0., 0., 0., 0., 0., 0.,\n",
       "          0., 0.],\n",
       "         [0., 0., 0., 0., 0., 0., 0., 0., 0., 0., 0., 0., 0., 0., 0., 0., 0., 0.,\n",
       "          0., 0.],\n",
       "         [0., 0., 0., 0., 0., 0., 0., 0., 0., 0., 0., 0., 0., 0., 0., 0., 0., 0.,\n",
       "          0., 0.],\n",
       "         [0., 0., 0., 0., 0., 0., 0., 0., 0., 0., 0., 0., 0., 0., 0., 0., 0., 0.,\n",
       "          0., 0.],\n",
       "         [0., 0., 0., 0., 0., 0., 0., 0., 0., 0., 0., 0., 0., 0., 0., 0., 0., 0.,\n",
       "          0., 0.],\n",
       "         [0., 0., 0., 0., 0., 0., 0., 0., 0., 0., 0., 0., 0., 0., 0., 0., 0., 0.,\n",
       "          0., 0.],\n",
       "         [0., 0., 0., 0., 0., 0., 0., 0., 0., 0., 0., 0., 0., 0., 0., 0., 0., 0.,\n",
       "          0., 0.],\n",
       "         [0., 0., 0., 0., 0., 0., 0., 0., 0., 0., 0., 0., 0., 0., 0., 0., 0., 0.,\n",
       "          0., 0.],\n",
       "         [0., 0., 0., 0., 0., 0., 0., 0., 0., 0., 0., 0., 0., 0., 0., 0., 0., 0.,\n",
       "          0., 0.],\n",
       "         [0., 0., 0., 0., 0., 0., 0., 0., 0., 0., 0., 0., 0., 0., 0., 0., 0., 0.,\n",
       "          0., 0.],\n",
       "         [0., 0., 0., 0., 0., 0., 0., 0., 0., 0., 0., 0., 0., 0., 0., 0., 0., 0.,\n",
       "          0., 0.],\n",
       "         [0., 0., 0., 0., 0., 0., 0., 0., 0., 0., 0., 0., 0., 0., 0., 0., 0., 0.,\n",
       "          0., 0.],\n",
       "         [0., 0., 0., 0., 0., 0., 0., 0., 0., 0., 8., 8., 8., 8., 8., 8., 8., 0.,\n",
       "          0., 0.],\n",
       "         [0., 0., 0., 0., 0., 0., 0., 0., 0., 0., 0., 0., 0., 0., 0., 0., 0., 0.,\n",
       "          0., 0.],\n",
       "         [7., 7., 7., 7., 7., 7., 0., 0., 0., 0., 0., 0., 0., 0., 0., 0., 0., 0.,\n",
       "          0., 0.],\n",
       "         [0., 0., 0., 0., 0., 0., 0., 0., 0., 0., 0., 0., 0., 0., 0., 0., 0., 0.,\n",
       "          0., 0.],\n",
       "         [0., 0., 0., 0., 0., 0., 0., 0., 0., 0., 0., 0., 0., 0., 0., 0., 0., 0.,\n",
       "          0., 0.],\n",
       "         [0., 0., 0., 0., 0., 0., 0., 0., 0., 0., 0., 0., 0., 0., 0., 0., 0., 0.,\n",
       "          0., 0.],\n",
       "         [0., 0., 0., 0., 0., 0., 0., 0., 0., 0., 0., 0., 0., 0., 0., 0., 0., 0.,\n",
       "          0., 0.]]),\n",
       " 0,\n",
       " 0)"
      ]
     },
     "execution_count": 38,
     "metadata": {},
     "output_type": "execute_result"
    },
    {
     "data": {
      "image/png": "[encoded data removed]",
      "text/plain": [
       "<Figure size 432x288 with 1 Axes>"
      ]
     },
     "metadata": {},
     "output_type": "display_data"
    }
   ],
   "source": [
    "out_canvas_list[0].render()"
   ]
  },
  {
   "cell_type": "code",
   "execution_count": 29,
   "metadata": {},
   "outputs": [
    {
     "data": {
      "text/plain": [
       "OrderedDict([('id_object_map',\n",
       "              OrderedDict([(0, tensor([[5., 5., 5., 5., 5., 5.]])),\n",
       "                           (1, tensor([[9., 9., 9., 9., 9., 9., 9.]]))])),\n",
       "             ('id_position_map',\n",
       "              OrderedDict([(0, tensor([ 5, -2])), (1, tensor([3, 2]))])),\n",
       "             ('background_color', 0),\n",
       "             ('node_id_map', OrderedDict([('obj_0', 0), ('obj_1', 1)])),\n",
       "             ('partial_relation_edges',\n",
       "              OrderedDict([(('obj_0', 'line_[6,1,0]'), 'Attr'),\n",
       "                           (('obj_1', 'line_[7,1,1]'), 'Attr')])),\n",
       "             ('image_t',\n",
       "              tensor([[0., 0., 0., 0., 0., 0., 0., 0., 0., 0.],\n",
       "                      [0., 0., 0., 0., 0., 0., 0., 0., 0., 0.],\n",
       "                      [0., 0., 0., 0., 0., 0., 0., 0., 0., 0.],\n",
       "                      [0., 0., 9., 9., 9., 9., 9., 9., 9., 0.],\n",
       "                      [0., 0., 0., 0., 0., 0., 0., 0., 0., 0.],\n",
       "                      [5., 5., 5., 5., 0., 0., 0., 0., 5., 5.],\n",
       "                      [0., 0., 0., 0., 0., 0., 0., 0., 0., 0.],\n",
       "                      [0., 0., 0., 0., 0., 0., 0., 0., 0., 0.],\n",
       "                      [0., 0., 0., 0., 0., 0., 0., 0., 0., 0.],\n",
       "                      [0., 0., 0., 0., 0., 0., 0., 0., 0., 0.]])),\n",
       "             ('id_object_mask',\n",
       "              OrderedDict([(0,\n",
       "                            tensor([[0., 0., 0., 0., 0., 0., 0., 0., 0., 0.],\n",
       "                                    [0., 0., 0., 0., 0., 0., 0., 0., 0., 0.],\n",
       "                                    [0., 0., 0., 0., 0., 0., 0., 0., 0., 0.],\n",
       "                                    [0., 0., 0., 0., 0., 0., 0., 0., 0., 0.],\n",
       "                                    [0., 0., 0., 0., 0., 0., 0., 0., 0., 0.],\n",
       "                                    [1., 1., 1., 1., 0., 0., 0., 0., 1., 1.],\n",
       "                                    [0., 0., 0., 0., 0., 0., 0., 0., 0., 0.],\n",
       "                                    [0., 0., 0., 0., 0., 0., 0., 0., 0., 0.],\n",
       "                                    [0., 0., 0., 0., 0., 0., 0., 0., 0., 0.],\n",
       "                                    [0., 0., 0., 0., 0., 0., 0., 0., 0., 0.]])),\n",
       "                           (1,\n",
       "                            tensor([[0., 0., 0., 0., 0., 0., 0., 0., 0., 0.],\n",
       "                                    [0., 0., 0., 0., 0., 0., 0., 0., 0., 0.],\n",
       "                                    [0., 0., 0., 0., 0., 0., 0., 0., 0., 0.],\n",
       "                                    [0., 0., 1., 1., 1., 1., 1., 1., 1., 0.],\n",
       "                                    [0., 0., 0., 0., 0., 0., 0., 0., 0., 0.],\n",
       "                                    [0., 0., 0., 0., 0., 0., 0., 0., 0., 0.],\n",
       "                                    [0., 0., 0., 0., 0., 0., 0., 0., 0., 0.],\n",
       "                                    [0., 0., 0., 0., 0., 0., 0., 0., 0., 0.],\n",
       "                                    [0., 0., 0., 0., 0., 0., 0., 0., 0., 0.],\n",
       "                                    [0., 0., 0., 0., 0., 0., 0., 0., 0., 0.]]))]))])"
      ]
     },
     "execution_count": 29,
     "metadata": {},
     "output_type": "execute_result"
    }
   ],
   "source": [
    "out_canvas_list[0].repr_as_dict()"
   ]
  },
  {
   "cell_type": "code",
   "execution_count": 18,
   "metadata": {},
   "outputs": [],
   "source": [
    "# load operators, and generate sample outputs!"
   ]
  },
  {
   "cell_type": "markdown",
   "metadata": {},
   "source": [
    "### BabyARC in Actions: Generate Outputs"
   ]
  },
  {
   "cell_type": "code",
   "execution_count": 19,
   "metadata": {},
   "outputs": [],
   "source": [
    "# generate a full example with BabyARC!"
   ]
  }
 ],
 "metadata": {
  "kernelspec": {
   "display_name": "Python 3",
   "language": "python",
   "name": "python3"
  },
  "language_info": {
   "codemirror_mode": {
    "name": "ipython",
    "version": 3
   },
   "file_extension": ".py",
   "mimetype": "text/x-python",
   "name": "python",
   "nbconvert_exporter": "python",
   "pygments_lexer": "ipython3",
   "version": "3.7.3"
  }
 },
 "nbformat": 4,
 "nbformat_minor": 4
}
