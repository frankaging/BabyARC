{
 "cells": [
  {
   "cell_type": "code",
   "execution_count": 1,
   "metadata": {},
   "outputs": [],
   "source": [
    "import os\n",
    "import torch\n",
    "from collections import Counter, OrderedDict\n",
    "from operator import itemgetter\n",
    "import random\n",
    "from random import sample\n",
    "import numpy as np\n",
    "import json\n",
    "from collections import OrderedDict\n",
    "import pickle\n",
    "import matplotlib.pylab as plt\n",
    "from functools import partial\n",
    "import pprint\n",
    "import hashlib\n",
    "import copy\n",
    "import sys\n",
    "import math\n",
    "from copy import deepcopy\n",
    "import hashlib\n",
    "import uuid \n",
    "import ast\n",
    "# Baby-ARC related imports\n",
    "from constants import *\n",
    "from utils import *\n",
    "from objects import *\n",
    "from operator import *\n",
    "from canvas import *\n",
    "from dataset import *\n",
    "from itertools import product\n",
    "import re\n",
    "# random seeds\n",
    "seed = 42\n",
    "random.seed(seed)\n",
    "np.random.seed(seed)\n",
    "torch.manual_seed(seed)\n",
    "\n",
    "# global vars\n",
    "RUN_AS_CREATOR = False\n",
    "ARC_OBJ_LOADED = False\n",
    "DEMO_MAX_ARC_OBJS = 500\n",
    "pp = pprint.PrettyPrinter(indent=4)\n",
    "\n",
    "import logging\n",
    "FORMAT = \"%(asctime)-15s %(message)s\"\n",
    "logging.basicConfig(format=FORMAT, level=logging.DEBUG,\n",
    "                    datefmt=\"%Y-%m-%d %H:%M\")\n",
    "logger = logging.getLogger(__name__)\n",
    "\n",
    "if RUN_AS_CREATOR:\n",
    "    logger.info(\"WARNING: You are using this a creator of BabyARC, it assumes you install all dependencies!\")\n",
    "    logger.info(\"If you are not the creator, please disable this. All functionalities of recreating the dataset is still here!\")"
   ]
  },
  {
   "cell_type": "markdown",
   "metadata": {},
   "source": [
    "### Collect Objects from the ARC dataset\n",
    "**WARNING:** This will fail, please use our pre-collected arc object files. We made this avaliable. The process of making this file involves hidden logics which will not be revealed. Currently, you can treat it as just a set of generated object pool!\n",
    "\n",
    "Details about the ARC can be found: https://github.com/fchollet/ARC. Note that you only have to run this one time, it will generate a file and save to the output directory. Later, you can simply use it! "
   ]
  },
  {
   "cell_type": "code",
   "execution_count": 2,
   "metadata": {},
   "outputs": [
    {
     "name": "stderr",
     "output_type": "stream",
     "text": [
      "2021-03-21 22:29 SUCCESS! You loaded the pre-collected object file from ARC!\n"
     ]
    }
   ],
   "source": [
    "if RUN_AS_CREATOR:\n",
    "    training_objs = []\n",
    "    for filename in os.listdir(arc_data_train_path):\n",
    "        if filename.endswith(\".json\"):\n",
    "            print(\"extracting objs from task: \", filename)\n",
    "            training_objs.extend(single_task_obj_parser(filename.split(\".\")[0]))\n",
    "    # we only need to parse once, and save it to the disk\n",
    "    torch.save(training_objs, os.path.join(tmp_data_dirname, 'arc_objs.pt'))\n",
    "else:\n",
    "    try:\n",
    "        arc_objs = torch.load(os.path.join(tmp_data_dirname, 'arc_objs.pt'))\n",
    "        logger.info(\"SUCCESS! You loaded the pre-collected object file from ARC!\")\n",
    "        ARC_OBJ_LOADED = True\n",
    "    except:\n",
    "        logger.info(\"Please check if obejct file in the directory indicated above!\")\n",
    "        logger.info(f\"WARNING: Please get those pre-collected ARC objects in {os.path.join(tmp_data_dirname, 'arc_objs.pt')}!\")\n",
    "        logger.info(\"You can download this file from: https://drive.google.com/file/d/1dZhT1cUFGvivJbSTwnqjou2uilLXffGY/view?usp=sharing\")"
   ]
  },
  {
   "cell_type": "markdown",
   "metadata": {},
   "source": [
    "### Pre-checks before moving forward with the Demo!\n",
    "\n",
    "These are some prechecks we enforced to ensure good user experience with this Demo! Please make sure you pass the test!"
   ]
  },
  {
   "cell_type": "code",
   "execution_count": 3,
   "metadata": {},
   "outputs": [
    {
     "name": "stderr",
     "output_type": "stream",
     "text": [
      "2021-03-21 22:29 PASSED!\n"
     ]
    }
   ],
   "source": [
    "if not ARC_OBJ_LOADED or RUN_AS_CREATOR:\n",
    "    logger.info(\"FAILED! Resolve issues before moving forward with this Demo file!\")\n",
    "else:\n",
    "    logger.info(\"PASSED!\")"
   ]
  },
  {
   "cell_type": "markdown",
   "metadata": {},
   "source": [
    "### Object Engine"
   ]
  },
  {
   "cell_type": "code",
   "execution_count": 4,
   "metadata": {},
   "outputs": [
    {
     "name": "stderr",
     "output_type": "stream",
     "text": [
      "2021-03-21 22:29 Original obj count = 500\n",
      "2021-03-21 22:29 Iso obj count = 51\n"
     ]
    }
   ],
   "source": [
    "ObE = ObjectEngine(arc_objs[:DEMO_MAX_ARC_OBJS])\n",
    "# Below the log, it should shows how many objects it loads.\n",
    "# Iso obj means the count of unique objects (considering rotations, color permutations, etc..)\n",
    "_ = ObE.sample_objs_by_fixed_width()\n",
    "# If no error, that means you successfully sampled an object!"
   ]
  },
  {
   "cell_type": "markdown",
   "metadata": {},
   "source": [
    "### Canvas Engine\n",
    "You can now place different objects based on different relations if provided on the Canvas!"
   ]
  },
  {
   "cell_type": "code",
   "execution_count": 5,
   "metadata": {},
   "outputs": [
    {
     "data": {
      "image/png": "[encoded data removed]",
      "text/plain": [
       "<Figure size 432x288 with 1 Axes>"
      ]
     },
     "metadata": {},
     "output_type": "display_data"
    }
   ],
   "source": [
    "test_canvas = CanvasEngine().sameple_canvas()[0]\n",
    "objs1 = ObE.sample_objs_with_line(n=1, len_lims=[5,10], thickness=1, rainbow_prob=0.1, direction=\"h\")\n",
    "# Here is just one example with how you can sample different objects from the object engine!\n",
    "results = test_canvas.placement(objs1[0])\n",
    "if results == -1:\n",
    "    logger.info(\"Placement step failed! Please rerun!\")\n",
    "else:\n",
    "    test_canvas.render(minimum_cover=False)"
   ]
  },
  {
   "cell_type": "markdown",
   "metadata": {},
   "source": [
    "Placement with object relations."
   ]
  },
  {
   "cell_type": "code",
   "execution_count": 8,
   "metadata": {},
   "outputs": [
    {
     "data": {
      "text/plain": [
       "OrderedDict([((0, 'color_[9]'), 'Attr'),\n",
       "             ((0, 'pos_[3,14]'), 'Attr'),\n",
       "             ((1, 'pos_[1,10]'), 'Attr'),\n",
       "             ((0, 1), 'IsInside')])"
      ]
     },
     "execution_count": 8,
     "metadata": {},
     "output_type": "execute_result"
    },
    {
     "data": {
      "image/png": "[encoded data removed]",
      "text/plain": [
       "<Figure size 432x288 with 1 Axes>"
      ]
     },
     "metadata": {},
     "output_type": "display_data"
    }
   ],
   "source": [
    "test_canvas = CanvasEngine().sameple_canvas()[0]\n",
    "objs1 = ObE.sample_objs_by_bound_area(n=1, rainbow_prob=0.2, \n",
    "                                      w_lim=3, h_lim=3)\n",
    "_ = test_canvas.render(minimum_cover=False)\n",
    "results = test_canvas.placement(objs1[0])\n",
    "if results == -1:\n",
    "    logger.info(\"Placement step failed! Please rerun!\")\n",
    "else:\n",
    "    objs2 = ObE.sample_objs_with_reactangle(n=1, thickness=1, rainbow_prob=0.3, \n",
    "                                              w_lims=[8,8], h_lims=[8,8])\n",
    "    results = test_canvas.placement(objs2[0], to_relate_objs=[0], placement_rule=\"IsOutside\")\n",
    "    if results == -1:\n",
    "        logger.info(\"Placement step failed! Please rerun!\")\n",
    "    else:\n",
    "        test_canvas.render(minimum_cover=False)\n",
    "        \n",
    "test_canvas.parse_relations() # this also parse the relations for your automatically!"
   ]
  },
  {
   "cell_type": "markdown",
   "metadata": {},
   "source": [
    "### BabyARC Canvas\n",
    "This is the dataset class where you can sample canvas in a much higher level!"
   ]
  },
  {
   "cell_type": "code",
   "execution_count": 5,
   "metadata": {},
   "outputs": [
    {
     "name": "stderr",
     "output_type": "stream",
     "text": [
      "2021-03-21 22:29 Creating new BabyARC dataset by loading in pretrained objects.\n",
      "2021-03-21 22:29 Loading the object engine and canvas engine with a limit of object number {object_limit}, background_color={int(dataset_background_color)}.\n",
      "2021-03-21 22:29 Original obj count = 500\n",
      "2021-03-21 22:29 Iso obj count = 51\n"
     ]
    }
   ],
   "source": [
    "demo_dataset = \\\n",
    "    BabyARCDataset(pretrained_obj_cache=os.path.join(tmp_data_dirname, 'arc_objs.pt'),\n",
    "                   save_directory=\"./BabyARCDataset/\", \n",
    "                   object_limit=500, noise_level=0)"
   ]
  },
  {
   "cell_type": "code",
   "execution_count": 17,
   "metadata": {},
   "outputs": [
    {
     "data": {
      "image/png": "[encoded data removed]",
      "text/plain": [
       "<Figure size 432x288 with 1 Axes>"
      ]
     },
     "metadata": {},
     "output_type": "display_data"
    }
   ],
   "source": [
    "canvas_dict = demo_dataset.sample_single_canvas_by_core_edges(\n",
    "    OrderedDict([(('obj_0', 'obj_1'), 'IsInside'), \n",
    "                 (('obj_2', 'obj_1'), 'SameAll'), \n",
    "                 (('obj_2', 'obj_3'), 'SameCol')]))"
   ]
  },
  {
   "cell_type": "code",
   "execution_count": 18,
   "metadata": {},
   "outputs": [
    {
     "data": {
      "text/plain": [
       "OrderedDict([('id_object_map',\n",
       "              OrderedDict([(0,\n",
       "                            tensor([[2., 5., 5., 1., 2., 8., 2., 7.],\n",
       "                                    [6., 0., 0., 0., 0., 0., 0., 3.],\n",
       "                                    [6., 0., 0., 0., 0., 0., 0., 4.],\n",
       "                                    [3., 0., 0., 0., 0., 0., 0., 1.],\n",
       "                                    [5., 0., 0., 0., 0., 0., 0., 9.],\n",
       "                                    [4., 0., 0., 0., 0., 0., 0., 8.],\n",
       "                                    [9., 8., 9., 5., 9., 6., 5., 4.]])),\n",
       "                           (1,\n",
       "                            tensor([[8., 5.],\n",
       "                                    [6., 0.]])),\n",
       "                           (2,\n",
       "                            tensor([[2., 5., 5., 1., 2., 8., 2., 7.],\n",
       "                                    [6., 0., 0., 0., 0., 0., 0., 3.],\n",
       "                                    [6., 0., 0., 0., 0., 0., 0., 4.],\n",
       "                                    [3., 0., 0., 0., 0., 0., 0., 1.],\n",
       "                                    [5., 0., 0., 0., 0., 0., 0., 9.],\n",
       "                                    [4., 0., 0., 0., 0., 0., 0., 8.],\n",
       "                                    [9., 8., 9., 5., 9., 6., 5., 4.]])),\n",
       "                           (3,\n",
       "                            tensor([[8., 8., 8., 8., 8., 8., 8., 8.],\n",
       "                                    [8., 8., 8., 8., 8., 8., 8., 8.],\n",
       "                                    [8., 8., 8., 8., 8., 8., 8., 8.],\n",
       "                                    [8., 8., 8., 8., 8., 8., 8., 8.],\n",
       "                                    [8., 8., 8., 8., 8., 8., 8., 8.]]))])),\n",
       "             ('id_position_map',\n",
       "              OrderedDict([(0, tensor([9, 2])),\n",
       "                           (1, tensor([12,  5])),\n",
       "                           (2, tensor([11, 13])),\n",
       "                           (3, tensor([ 5, 13]))])),\n",
       "             ('background_color', 0),\n",
       "             ('node_id_map',\n",
       "              OrderedDict([('obj_1', 0),\n",
       "                           ('obj_0', 1),\n",
       "                           ('obj_2', 2),\n",
       "                           ('obj_3', 3)])),\n",
       "             ('partial_relation_edges',\n",
       "              OrderedDict([(('obj_0', 'obj_1'), 'IsInside'),\n",
       "                           (('obj_2', 'obj_1'), 'SameAll'),\n",
       "                           (('obj_2', 'obj_3'), 'SameCol')])),\n",
       "             ('image_t',\n",
       "              tensor([[0., 0., 0., 0., 0., 0., 0., 0., 0., 0., 0., 0., 0., 0., 0., 0., 0., 0.,\n",
       "                       0., 0., 0., 0., 0., 0., 0., 0., 0., 0., 0.],\n",
       "                      [0., 0., 0., 0., 0., 0., 0., 0., 0., 0., 0., 0., 0., 0., 0., 0., 0., 0.,\n",
       "                       0., 0., 0., 0., 0., 0., 0., 0., 0., 0., 0.],\n",
       "                      [0., 0., 0., 0., 0., 0., 0., 0., 0., 0., 0., 0., 0., 0., 0., 0., 0., 0.,\n",
       "                       0., 0., 0., 0., 0., 0., 0., 0., 0., 0., 0.],\n",
       "                      [0., 0., 0., 0., 0., 0., 0., 0., 0., 0., 0., 0., 0., 0., 0., 0., 0., 0.,\n",
       "                       0., 0., 0., 0., 0., 0., 0., 0., 0., 0., 0.],\n",
       "                      [0., 0., 0., 0., 0., 0., 0., 0., 0., 0., 0., 0., 0., 0., 0., 0., 0., 0.,\n",
       "                       0., 0., 0., 0., 0., 0., 0., 0., 0., 0., 0.],\n",
       "                      [0., 0., 0., 0., 0., 0., 0., 0., 0., 0., 0., 0., 0., 8., 8., 8., 8., 8.,\n",
       "                       8., 8., 8., 0., 0., 0., 0., 0., 0., 0., 0.],\n",
       "                      [0., 0., 0., 0., 0., 0., 0., 0., 0., 0., 0., 0., 0., 8., 8., 8., 8., 8.,\n",
       "                       8., 8., 8., 0., 0., 0., 0., 0., 0., 0., 0.],\n",
       "                      [0., 0., 0., 0., 0., 0., 0., 0., 0., 0., 0., 0., 0., 8., 8., 8., 8., 8.,\n",
       "                       8., 8., 8., 0., 0., 0., 0., 0., 0., 0., 0.],\n",
       "                      [0., 0., 0., 0., 0., 0., 0., 0., 0., 0., 0., 0., 0., 8., 8., 8., 8., 8.,\n",
       "                       8., 8., 8., 0., 0., 0., 0., 0., 0., 0., 0.],\n",
       "                      [0., 0., 2., 5., 5., 1., 2., 8., 2., 7., 0., 0., 0., 8., 8., 8., 8., 8.,\n",
       "                       8., 8., 8., 0., 0., 0., 0., 0., 0., 0., 0.],\n",
       "                      [0., 0., 6., 0., 0., 0., 0., 0., 0., 3., 0., 0., 0., 0., 0., 0., 0., 0.,\n",
       "                       0., 0., 0., 0., 0., 0., 0., 0., 0., 0., 0.],\n",
       "                      [0., 0., 6., 0., 0., 0., 0., 0., 0., 4., 0., 0., 0., 2., 5., 5., 1., 2.,\n",
       "                       8., 2., 7., 0., 0., 0., 0., 0., 0., 0., 0.],\n",
       "                      [0., 0., 3., 0., 0., 8., 5., 0., 0., 1., 0., 0., 0., 6., 0., 0., 0., 0.,\n",
       "                       0., 0., 3., 0., 0., 0., 0., 0., 0., 0., 0.],\n",
       "                      [0., 0., 5., 0., 0., 6., 0., 0., 0., 9., 0., 0., 0., 6., 0., 0., 0., 0.,\n",
       "                       0., 0., 4., 0., 0., 0., 0., 0., 0., 0., 0.],\n",
       "                      [0., 0., 4., 0., 0., 0., 0., 0., 0., 8., 0., 0., 0., 3., 0., 0., 0., 0.,\n",
       "                       0., 0., 1., 0., 0., 0., 0., 0., 0., 0., 0.],\n",
       "                      [0., 0., 9., 8., 9., 5., 9., 6., 5., 4., 0., 0., 0., 5., 0., 0., 0., 0.,\n",
       "                       0., 0., 9., 0., 0., 0., 0., 0., 0., 0., 0.],\n",
       "                      [0., 0., 0., 0., 0., 0., 0., 0., 0., 0., 0., 0., 0., 4., 0., 0., 0., 0.,\n",
       "                       0., 0., 8., 0., 0., 0., 0., 0., 0., 0., 0.],\n",
       "                      [0., 0., 0., 0., 0., 0., 0., 0., 0., 0., 0., 0., 0., 9., 8., 9., 5., 9.,\n",
       "                       6., 5., 4., 0., 0., 0., 0., 0., 0., 0., 0.],\n",
       "                      [0., 0., 0., 0., 0., 0., 0., 0., 0., 0., 0., 0., 0., 0., 0., 0., 0., 0.,\n",
       "                       0., 0., 0., 0., 0., 0., 0., 0., 0., 0., 0.],\n",
       "                      [0., 0., 0., 0., 0., 0., 0., 0., 0., 0., 0., 0., 0., 0., 0., 0., 0., 0.,\n",
       "                       0., 0., 0., 0., 0., 0., 0., 0., 0., 0., 0.],\n",
       "                      [0., 0., 0., 0., 0., 0., 0., 0., 0., 0., 0., 0., 0., 0., 0., 0., 0., 0.,\n",
       "                       0., 0., 0., 0., 0., 0., 0., 0., 0., 0., 0.],\n",
       "                      [0., 0., 0., 0., 0., 0., 0., 0., 0., 0., 0., 0., 0., 0., 0., 0., 0., 0.,\n",
       "                       0., 0., 0., 0., 0., 0., 0., 0., 0., 0., 0.]]))])"
      ]
     },
     "execution_count": 18,
     "metadata": {},
     "output_type": "execute_result"
    }
   ],
   "source": [
    "canvas_dict"
   ]
  },
  {
   "cell_type": "markdown",
   "metadata": {},
   "source": [
    "### Operators\n"
   ]
  },
  {
   "cell_type": "code",
   "execution_count": 250,
   "metadata": {},
   "outputs": [],
   "source": [
    "class OperatorEngine(object):\n",
    "    \n",
    "    def __init__(self):\n",
    "        \n",
    "        # DSLs for operators\n",
    "        self.ARG_TYPES = {\"$OBJ\", \"$NUMERIC\", \"$WHOLE\", \"$POSITION\"} # <- produced by selector\n",
    "        self.OPERATORS = {\n",
    "            \"@IDENTITY\" : \"$OBJ|$WHOLE\",\n",
    "            \"@ROTATION\" : \"$OBJ|$WHOLE\", # this rotation contains flip as well!\n",
    "            # \"@DRAWLINE\" : \"$POSITION&$POSITION&$NUMERIC\",\n",
    "            \"@DRAW\" : \"$OBJ&$NUMERIC|$POSITION&$NUMERIC|$NUMERIC\",\n",
    "            # \"@DRAWPATTERN\" : \"$POSITION&$NUMERIC\",\n",
    "            # \"@MOVE\" : \"$OBJ&$POSITION\",\n",
    "            # \"@REMAINDER\" : \"$OBJ\",\n",
    "            # \"@SORT\" : \"$OBJ&$NUMERIC\",\n",
    "            \"@OUT\" : \"$OBJ|$WHOLE\",\n",
    "            \"@IN\" : \"$WHOLE\"\n",
    "        }\n",
    "        self.SELECTORS = {\n",
    "            \"$OBJ\" : [\"$SELECTOR_PATTERN\", \"$SELECTOR_ALL\", \"$SELECTOR_EXTREME\"], \n",
    "            \"$WHOLE\" : [\"$SELECTOR_WHOLE\"],\n",
    "            \"$NUMERIC\" : [\"$OBJ^$SELECTOR_COLOR_COUNT\", \"$OBJ^$SELECTOR_OBJ_COUNT\", \n",
    "                          \"$OBJ^$SELECTOR_PIXEL_COUNT\", \"$OBJ^$SELECTOR_COLOR\", \n",
    "                          \"$OBJ^$SELECTOR_RANDOM\", \"$OBJ^$SELECTOR_PARTIAL_POSITION\"],\n",
    "            \"$POSITION\" : [\"$OBJ^$SELECTOR_POSITION\"]\n",
    "        }\n",
    "        \n",
    "        for selector, patterns in self.SELECTORS.items():\n",
    "            new_patterns = []\n",
    "            for p in patterns:\n",
    "                if \"^\" in p:\n",
    "                    \n",
    "                    # high order selector, assumes it goes only second order!\n",
    "                    p = p.split(\"^\")\n",
    "                    for ele in self.SELECTORS[p[0]]:\n",
    "                        new_patterns.append(f\"{ele}^{p[-1]}\")\n",
    "                else:\n",
    "                    new_patterns.append(p)\n",
    "            self.SELECTORS[selector] = new_patterns\n",
    "    \n",
    "    def get_relation_nbrs(self, node, edges):\n",
    "        for k, v in edges.items():\n",
    "            if k[0] == node:\n",
    "                if v == \"Attr\":\n",
    "                    yield (k[1], v)\n",
    "                else:\n",
    "                    yield (v,)\n",
    "\n",
    "    def dfs_path_helper(self, curr_node, curr_path, result, edges, k=3):\n",
    "        if len(curr_path) != 0:\n",
    "            result.add(tuple(copy.deepcopy(curr_path)))\n",
    "        if len(curr_path) == 3:\n",
    "            return\n",
    "        \n",
    "        for nbr in self.get_relation_nbrs(curr_node, edges):\n",
    "            if nbr not in curr_path:\n",
    "                curr_path.append(nbr)\n",
    "                self.dfs_path_helper(nbr, curr_path, result, edges, k=k)\n",
    "                curr_path.pop()\n",
    "        \n",
    "    def dfs_path(self, root, edges, k=3):\n",
    "        results = set([])\n",
    "        self.dfs_path_helper(root, [], results, edges, k=k)\n",
    "        return results\n",
    "    \n",
    "    def _consolidate_patterns_within_canvas(self, obj_paths):\n",
    "        reversed_patterns = OrderedDict({})\n",
    "        object_pool = []\n",
    "        for k, _ in obj_paths.items():\n",
    "            object_pool.append(k)\n",
    "\n",
    "        for i in range(len(object_pool)):\n",
    "            obj_i = object_pool[i]\n",
    "            obj_i_path = obj_paths[obj_i]\n",
    "            for path in obj_i_path:\n",
    "                matched = False\n",
    "                for k, v in reversed_patterns.items():\n",
    "                    # consolidate in\n",
    "                    if k == path:\n",
    "                        reversed_patterns[path].add(obj_i[0]) # this is only for a single obj\n",
    "                        matched = True\n",
    "                        break\n",
    "                # adding this to the reversed pattern mapping as well\n",
    "                if not matched:\n",
    "                    reversed_patterns[path] = set([obj_i[0]])\n",
    "        return reversed_patterns\n",
    "    \n",
    "    def get_obj_dfs_path(self, canvas, k=3):\n",
    "        # extrapolate the relation to be bidirectional for all relations\n",
    "        relation_edges = canvas.partial_relation_edges\n",
    "        relation_edges_copy = copy.deepcopy(relation_edges)\n",
    "        for k, v in relation_edges.items():\n",
    "            if v != \"Attr\" and v != \"IsInside\": # IsInside is not permutable here!\n",
    "                relation_edges_copy[(k[1], k[0])] = v\n",
    "        parsed_relation_edges = canvas.parse_relations()\n",
    "        for k, v in parsed_relation_edges.items():\n",
    "            if v == \"Attr\":\n",
    "                relation_edges_copy[(canvas.id_node_map[k[0]], k[1])] = v\n",
    "            else:\n",
    "                relation_edges_copy[(canvas.id_node_map[k[0]], canvas.id_node_map[k[1]])] = v\n",
    "        \n",
    "        # loop through each obj\n",
    "        obj_paths = OrderedDict({})\n",
    "        common_in = None\n",
    "        for k, v in canvas.id_node_map.items():\n",
    "            v_paths = self.dfs_path(v, relation_edges_copy, k=k)\n",
    "            if common_in == None:\n",
    "                common_in = v_paths\n",
    "            else:\n",
    "                common_in = common_in.intersection(v_paths)\n",
    "            obj_paths[tuple([v])] = v_paths\n",
    "        for k, v in obj_paths.items():\n",
    "            obj_paths[k] = v - common_in\n",
    "        return self._consolidate_patterns_within_canvas(obj_paths) # return consolidated paths\n",
    "\n",
    "    def _sample_operator_combination(self, k=2, middle=True):\n",
    "        avaliable_operators = set(list(self.OPERATORS.keys()))\n",
    "        if middle:\n",
    "            avaliable_operators = avaliable_operators - {\"@OUT\", \"@IN\"}\n",
    "        if k > 1:\n",
    "            avaliable_operators = avaliable_operators - {\"@COMBINED\", \"@REMAINDER\", \"@SORT\"}\n",
    "        existing_operators = list(avaliable_operators)\n",
    "        operator_permutator = []\n",
    "        for i in range(k):\n",
    "            operator_permutator.append(copy.deepcopy(existing_operators))\n",
    "        operator_permutations = product(*operator_permutator)\n",
    "        operator_combinations = []\n",
    "        for perm in operator_permutations:\n",
    "            if len(set(perm)) == len(perm): # non-repeat\n",
    "                operator_combinations.append(perm)\n",
    "        return operator_combinations \n",
    "    \n",
    "    def _graph_convertor(self, flatten_graph):\n",
    "        graph = OrderedDict({})\n",
    "        for k, v in flatten_graph.items():\n",
    "            if v in graph.keys():\n",
    "                graph[v].append(k)\n",
    "            else:\n",
    "                graph[v] = [k]\n",
    "        return graph\n",
    "\n",
    "    def sample_operator_graph(self, max_ops_depth=3):\n",
    "        operator_graphs = []\n",
    "        avaliable_operators = set(list(self.OPERATORS.keys()))\n",
    "        avaliable_operators = avaliable_operators - {\"@OUT\", \"@IN\"}\n",
    "        op_graph_pemutator = []\n",
    "        for i in range(max_ops_depth):\n",
    "            op_graph_pemutator.append(copy.deepcopy(list(avaliable_operators)))\n",
    "        op_graphs = product(*op_graph_pemutator)\n",
    "        for op_g in op_graphs:\n",
    "            args_permutator = []\n",
    "            for steps in op_g:\n",
    "                step_args = self.OPERATORS[steps].split(\"|\") # there could be potentially multiple args\n",
    "                                                             # supported for this ops\n",
    "                args_permutator.append(step_args)\n",
    "            args_permutations = product(*args_permutator)\n",
    "            for step_args in args_permutations:\n",
    "                step_idx = 1\n",
    "                curr_step_permutator = []\n",
    "                for s_a in step_args:\n",
    "                    step_perms = []\n",
    "                    s_a = s_a.split(\"&\")\n",
    "                    \n",
    "                    # get all the s_a combinations\n",
    "                    s_a_permutators = []\n",
    "                    for s_a_s in s_a:\n",
    "                        s_a_permutators.append(self.SELECTORS[s_a_s])\n",
    "                    s_a_permutations = product(*s_a_permutators)\n",
    "                    for s_a_perm in s_a_permutations:\n",
    "                        # potential output connecting points\n",
    "                        out_in = []\n",
    "                        for i in range(step_idx):\n",
    "                            out_in.append(f\"{i}$OUT\")\n",
    "                        out_permutator = []\n",
    "                        for j in range(len(s_a_perm)):\n",
    "                            out_permutator.append(out_in)\n",
    "                        out_permutations = product(*out_permutator)\n",
    "                        for out_perm in out_permutations:\n",
    "                            v = op_g[step_idx-1]\n",
    "                            for combo in zip(out_perm, s_a_perm):\n",
    "                                v += f\" {combo[0]}^{combo[1]}\"\n",
    "                            if f\"{step_idx-1}$OUT\" in v:\n",
    "                                step_perms.append(v) # you need to include last one!\n",
    "                    curr_step_permutator.append(step_perms)\n",
    "                    step_idx += 1\n",
    "                curr_step_permutations = product(*curr_step_permutator)\n",
    "                for c_s_p in curr_step_permutations:\n",
    "                    graph = OrderedDict({})\n",
    "                    graph[\"0$OUT\"] = \"@IDENTITY 0$IN\"\n",
    "                    for i in range(len(c_s_p)):\n",
    "                        graph[f\"{i+1}$OUT\"] = c_s_p[i]\n",
    "                    if graph[f\"{len(c_s_p)}$OUT\"].split(\" \")[0] == \"@IDENTITY\" and \\\n",
    "                        \"^\".join(graph[f\"{len(c_s_p)}$OUT\"].split(\"^\")[1:]) in self.SELECTORS[\"$NUMERIC\"]:\n",
    "                        graph[f\"{len(c_s_p)+1}$OUT\"] = f\"@DRAW {len(c_s_p)}$OUT\"\n",
    "                        operator_graphs.append(copy.deepcopy(graph))\n",
    "                    else:\n",
    "                        for o_perm in self.SELECTORS[\"$OBJ\"]+self.SELECTORS[\"$WHOLE\"]:\n",
    "                            graph[f\"{len(c_s_p)+1}$OUT\"] = f\"@IDENTITY {len(c_s_p)}$OUT^{o_perm}\"\n",
    "                            operator_graphs.append(copy.deepcopy(graph))\n",
    "        return operator_graphs\n",
    "    \n",
    "    def _count_image_t_pixel(self, image_t, background_color=0):\n",
    "        count = 0\n",
    "        for i in range(image_t.shape[0]):\n",
    "            for j in range(image_t.shape[1]):\n",
    "                if image_t[i,j] != background_color:\n",
    "                    count += 1\n",
    "        return count\n",
    "    \n",
    "    def _generate_ranking_tuples(self, canvas, rank_by=\"#POS_COL\"): # output single object\n",
    "        ranking_tuples = []\n",
    "        for k, v in canvas.node_id_map.items():\n",
    "            position_t = canvas.opos_map[v]\n",
    "            row = position_t[0]\n",
    "            col = position_t[1]\n",
    "            obj = canvas.oid_map[v]\n",
    "            h = obj.image_t.shape[0]\n",
    "            w = obj.image_t.shape[1]\n",
    "            c_h = canvas.init_canvas.shape[0]\n",
    "            c_w = canvas.init_canvas.shape[1]\n",
    "            if rank_by == \"#POS_COL\":\n",
    "                ranking_tuples.append((k, col))\n",
    "            elif rank_by == \"#POS_COL_R\":\n",
    "                ranking_tuples.append((k, c_w-(col+w)))\n",
    "            elif rank_by == \"#POS_ROW\":\n",
    "                ranking_tuples.append((k, row))\n",
    "            elif rank_by == \"#POS_ROW_R\":\n",
    "                ranking_tuples.append((k, c_h-(row+h)))\n",
    "            elif rank_by == \"#AREA\":\n",
    "                ranking_tuples.append((k, h*w))\n",
    "            elif rank_by == \"#WIDTH\":\n",
    "                ranking_tuples.append((k, w))\n",
    "            elif rank_by == \"#HEIGHT\":\n",
    "                ranking_tuples.append((k, h))\n",
    "            elif rank_by == \"#COUNT_PIXEL\":\n",
    "                ranking_tuples.append((k, self._count_image_t_pixel(obj.image_t, canvas.background_color)))\n",
    "        \n",
    "        return sorted(ranking_tuples, key=itemgetter(1))\n",
    "\n",
    "    def _rotate_tag(self, original_tags, n):\n",
    "        \"\"\"\n",
    "        rotate the tag ccw\n",
    "        \"\"\"\n",
    "        curr_position_tags = copy.deepcopy(original_tags)\n",
    "        for i in range(n):\n",
    "            new_position_tags = []\n",
    "            for t in curr_position_tags:\n",
    "                if t == \"upper\":\n",
    "                    new_position_tags.append(\"left\")\n",
    "                elif t == \"left\":\n",
    "                    new_position_tags.append(\"lower\")\n",
    "                elif t == \"lower\":\n",
    "                    new_position_tags.append(\"right\")\n",
    "                elif t == \"right\":\n",
    "                    new_position_tags.append(\"upper\")\n",
    "                else:\n",
    "                    pass\n",
    "            curr_position_tags = copy.deepcopy(new_position_tags) # recurrent\n",
    "        return curr_position_tags\n",
    "    \n",
    "    def _flip_tag(self, original_tags, direction):\n",
    "        curr_position_tags = copy.deepcopy(original_tags)\n",
    "        if direction == -1:\n",
    "            new_position_tags = []\n",
    "            for t in curr_position_tags:\n",
    "                if t == \"left\":\n",
    "                    new_position_tags.append(\"right\")\n",
    "                elif t == \"right\":\n",
    "                    new_position_tags.append(\"left\")\n",
    "                else:\n",
    "                    new_position_tags.append(t)\n",
    "        elif direction == -2:\n",
    "            new_position_tags = []\n",
    "            for t in curr_position_tags:\n",
    "                if t == \"upper\":\n",
    "                    new_position_tags.append(\"lower\")\n",
    "                elif t == \"lower\":\n",
    "                    new_position_tags.append(\"upper\")\n",
    "                else:\n",
    "                    new_position_tags.append(t)\n",
    "        return new_position_tags\n",
    "\n",
    "    def _rotation_obj(self, img_obj, rotation):\n",
    "        ret = copy.deepcopy(img_obj)\n",
    "        # update image and tag\n",
    "        if rotation == 0:\n",
    "            ret.image_t = ret.image_t.flip(-1)\n",
    "            ret.position_tags = self._flip_tag(ret.position_tags, -1)\n",
    "        elif rotation == 1:\n",
    "            ret.image_t = ret.image_t.flip(-2)\n",
    "            ret.position_tags = self._flip_tag(ret.position_tags, -2)\n",
    "        elif rotation == 2:\n",
    "            ret.image_t = torch.rot90(ret.image_t, k=1, dims=(-2, -1))\n",
    "            ret.position_tags = self._rotate_tag(ret.position_tags, 1)\n",
    "        elif rotation == 3:\n",
    "            ret.image_t = torch.rot90(ret.image_t, k=2, dims=(-2, -1))\n",
    "            ret.position_tags = self._rotate_tag(ret.position_tags, 2)\n",
    "        elif rotation == 4:\n",
    "            ret.image_t = torch.rot90(ret.image_t, k=3, dims=(-2, -1))\n",
    "            ret.position_tags = self._rotate_tag(ret.position_tags, 3)\n",
    "        elif rotation == 5:\n",
    "            ret.image_t = torch.rot90(ret.image_t, k=1, dims=(-2, -1)).flip(-1)\n",
    "            ret.position_tags = self._flip_tag(self._rotate_tag(ret.position_tags, 1), -1)\n",
    "        elif rotation == 6:\n",
    "            ret.image_t = torch.rot90(ret.image_t, k=1, dims=(-2, -1)).flip(-2)\n",
    "            ret.position_tags = self._flip_tag(self._rotate_tag(ret.position_tags, 1), -2)\n",
    "        else:\n",
    "            pass\n",
    "        return ret\n",
    "    \n",
    "    def _rotate_img_t(self, img_t_in, rotation):\n",
    "        img_t = copy.deepcopy(img_t_in)\n",
    "        if rotation == 0:\n",
    "            img_t = img_t.flip(-1)\n",
    "        elif rotation == 1:\n",
    "            img_t = img_t.flip(-2)\n",
    "        elif rotation == 2:\n",
    "            img_t = torch.rot90(img_t, k=1, dims=(-2, -1))\n",
    "        elif rotation == 3:\n",
    "            img_t = torch.rot90(img_t, k=2, dims=(-2, -1))\n",
    "        elif rotation == 4:\n",
    "            img_t = torch.rot90(img_t, k=3, dims=(-2, -1))\n",
    "        elif rotation == 5:\n",
    "            img_t = torch.rot90(img_t, k=1, dims=(-2, -1)).flip(-1)\n",
    "        elif rotation == 6:\n",
    "            img_t = torch.rot90(img_t, k=1, dims=(-2, -1)).flip(-2)\n",
    "        else:\n",
    "            pass\n",
    "        return img_t\n",
    "    \n",
    "    def _rotate_whole_obj_position(self, canvas_t_in, obj_t_in, old_pos_in, rotation, background_color):\n",
    "        canvas_t = copy.deepcopy(canvas_t_in)\n",
    "        obj_t = copy.deepcopy(obj_t_in)\n",
    "        old_pos = copy.deepcopy(old_pos_in)\n",
    "        for i in range(obj_t.shape[0]):\n",
    "            for j in range(obj_t.shape[1]):\n",
    "                r = old_pos[0] + i\n",
    "                c = old_pos[1] + j\n",
    "                canvas_t[r,c] = 1.0\n",
    "        canvas_t = self._rotate_img_t(canvas_t, rotation)\n",
    "        for i in range(canvas_t.shape[0]):\n",
    "            for j in range(canvas_t.shape[1]):\n",
    "                if canvas_t[i,j] != background_color:\n",
    "                    return torch.tensor([i,j])\n",
    "    \n",
    "    def _rotate_whole(self, canvas, rotation):\n",
    "        new_canvas = copy.deepcopy(canvas)\n",
    "        new_init_canvas = self._rotate_img_t(new_canvas.init_canvas, rotation)\n",
    "        new_canvas.init_canvas = new_init_canvas\n",
    "        for oid, obj in new_canvas.oid_map.items():\n",
    "            rotated_obj = self._rotation_obj(obj, rotation)\n",
    "            new_canvas.oid_map[oid] = rotated_obj\n",
    "            # then we need to find the new position on the new canvas!\n",
    "            new_pos = \\\n",
    "                self._rotate_whole_obj_position(canvas.init_canvas, obj.image_t, canvas.opos_map[oid],\n",
    "                                                rotation,\n",
    "                                                canvas.background_color)\n",
    "            new_canvas.opos_map[oid] = new_pos\n",
    "        return new_canvas\n",
    "    \n",
    "    def _rotate_obj_position(self, obj_t_in, old_pos_in, rotation):\n",
    "        \"\"\"\n",
    "        Rotate by the center of the object.\n",
    "        \"\"\"\n",
    "        center_r = old_pos_in[0] + int(obj_t_in.shape[0]/2)\n",
    "        center_c = old_pos_in[1] + int(obj_t_in.shape[1]/2)\n",
    "        \n",
    "        new_obj_t = self._rotate_img_t(obj_t_in, rotation)\n",
    "        new_r = center_r - int(new_obj_t.shape[0]/2)\n",
    "        new_c = center_c - int(new_obj_t.shape[1]/2)\n",
    "        \n",
    "        return torch.tensor([new_r, new_c]), new_obj_t\n",
    "    \n",
    "    ########################################\n",
    "    #\n",
    "    # Selectors\n",
    "    #\n",
    "    ########################################\n",
    "    def select_by_common_referred_patterns(self, canvas_list):\n",
    "        \"\"\"\n",
    "        extract patterns exist \n",
    "        \"\"\"\n",
    "        common_referred = None\n",
    "        for canvas in canvas_list:\n",
    "            if common_referred == None:\n",
    "                common_referred = self.get_obj_dfs_path(canvas)\n",
    "                # turning value into 2d list to contain multiple canvas information\n",
    "                flatten_common_referred = OrderedDict({})\n",
    "                for k, v in common_referred.items():\n",
    "                    flatten_common_referred[k] = [v]\n",
    "                common_referred = flatten_common_referred\n",
    "            else:\n",
    "                new_common_referred = OrderedDict({})\n",
    "                current_referred = self.get_obj_dfs_path(canvas) # we dont have to flatten it!\n",
    "                for path_common, objs_common in common_referred.items():\n",
    "                    for path_current, objs_current in current_referred.items():\n",
    "                        if path_common == path_current:\n",
    "                            new_common_referred[path_common] = []\n",
    "                            new_common_referred[path_common].extend(objs_common)\n",
    "                            # common path shared across two canvas\n",
    "                            new_common_referred[path_common].append(objs_current)\n",
    "                common_referred = copy.deepcopy(new_common_referred)\n",
    "        selectors = []\n",
    "        # return potential selectors as a 2d list, same length as the canvas\n",
    "        for _, v in common_referred.items():\n",
    "            # we ignore the keys here for significant reasons.\n",
    "            # we don't want to explicity expose the relations to \n",
    "            # users.\n",
    "            ss = []\n",
    "            for e in v:\n",
    "                ss += [list(e)]\n",
    "            selectors += [ss]\n",
    "        return selectors\n",
    "\n",
    "    def select_by_extreme(self, canvas_list):\n",
    "        extreme_code = {\n",
    "            0:\"#POS_COL\",\n",
    "            1:\"#POS_COL_R\",\n",
    "            2:\"#POS_ROW\",\n",
    "            3:\"#POS_ROW_R\",\n",
    "            4:\"#AREA\",\n",
    "            5:\"#WIDTH\",\n",
    "            6:\"#HEIGHT\",\n",
    "            7:\"#COUNT_PIXEL\"\n",
    "        }\n",
    "        selector_code = random.randint(0, len(list(extreme_code.keys()))-1)\n",
    "        selectors = []\n",
    "        min_len = 99\n",
    "        for canvas in canvas_list:\n",
    "            selected_objs = self._generate_ranking_tuples(canvas, rank_by=extreme_code[selector_code])\n",
    "            if len(selected_objs) < min_len:\n",
    "                min_len = len(selected_objs)\n",
    "            selectors.append(selected_objs)\n",
    "        selector_idx = random.randint(0, min_len-1)\n",
    "        single_selectors = []\n",
    "        for s in selectors:\n",
    "            single_selectors.append([s[selector_idx][0]])\n",
    "        return single_selectors, extreme_code[selector_code]\n",
    "    \n",
    "    def select_all(self, canvas_list):\n",
    "        selectors = []\n",
    "        for canvas in canvas_list:\n",
    "            canvas_selector = []\n",
    "            for k, v in canvas.node_id_map.items():\n",
    "                canvas_selector.append(k)\n",
    "            selectors.append(canvas_selector)\n",
    "        return selectors\n",
    "    \n",
    "    ########################################\n",
    "    #\n",
    "    # Operators\n",
    "    #\n",
    "    ########################################\n",
    "    def operator_rotate_whole(self, canvas_list, selectors=[], selector_type=\"$WHOLE\"):\n",
    "        \"\"\"\n",
    "        Rotate whole canvas, selector is not needed!\n",
    "        \"\"\"\n",
    "        rotate_code = {\n",
    "            0:\"#FLIP_1\",\n",
    "            1:\"#FLIP_2\",\n",
    "            2:\"#ROTATE_1\",\n",
    "            3:\"#ROTATE_2\",\n",
    "            4:\"#ROTATE_3\",\n",
    "            5:\"#ROTATE_1^#FLIP_1\",\n",
    "            6:\"#ROTATE_1^#FLIP_2\",\n",
    "        }\n",
    "        selector_code = random.randint(0, len(list(rotate_code.keys()))-1)\n",
    "        operated_canvas = []\n",
    "        for canvas in canvas_list:\n",
    "            new_canvas = self._rotate_whole(canvas, selector_code)\n",
    "            operated_canvas.append(new_canvas)\n",
    "        return operated_canvas, rotate_code[selector_code]\n",
    "    \n",
    "    def operate_rotate(self, canvas_list, selectors=[], selector_type=\"$OBJ\"):\n",
    "        rotate_code = {\n",
    "            0:\"#FLIP_1\",\n",
    "            1:\"#FLIP_2\",\n",
    "            2:\"#ROTATE_1\",\n",
    "            3:\"#ROTATE_2\",\n",
    "            4:\"#ROTATE_3\",\n",
    "            5:\"#ROTATE_1^#FLIP_1\",\n",
    "            6:\"#ROTATE_1^#FLIP_2\",\n",
    "        }\n",
    "        selector_code = random.randint(0, len(list(rotate_code.keys()))-1)\n",
    "        operated_canvas = []\n",
    "        canvas_idx = 0\n",
    "        for canvas in canvas_list:\n",
    "            new_canvas = copy.deepcopy(canvas)\n",
    "            for selected_obj in selectors[canvas_idx]:\n",
    "                _id = canvas.node_id_map[selected_obj]\n",
    "                old_obj = canvas.oid_map[_id]\n",
    "                old_pos = canvas.opos_map[_id]\n",
    "                new_pos, new_obj_img_t = self._rotate_obj_position(old_obj.image_t, old_pos, selector_code)\n",
    "                new_canvas.oid_map[_id].image_t = new_obj_img_t\n",
    "                new_canvas.opos_map[_id] = new_pos\n",
    "            operated_canvas.append(new_canvas)\n",
    "            canvas_idx += 1\n",
    "        return operated_canvas, rotate_code[selector_code]\n",
    "    \n",
    "    "
   ]
  },
  {
   "cell_type": "code",
   "execution_count": 251,
   "metadata": {},
   "outputs": [],
   "source": [
    "canvas_new_list, _ = OperatorEngine().operate_rotate([canvas1, canvas2], [[\"obj_0\"], [\"obj_1\"]])"
   ]
  },
  {
   "cell_type": "code",
   "execution_count": 252,
   "metadata": {},
   "outputs": [
    {
     "data": {
      "text/plain": [
       "(tensor([[0., 0., 0., 0., 0., 0., 0., 0., 0., 0., 0., 0., 0., 0., 0., 0., 0., 0.,\n",
       "          0., 0., 0.],\n",
       "         [0., 0., 0., 0., 0., 0., 0., 0., 0., 0., 0., 0., 0., 0., 0., 0., 0., 0.,\n",
       "          0., 0., 0.],\n",
       "         [0., 0., 0., 0., 0., 0., 0., 0., 0., 0., 0., 0., 0., 0., 0., 0., 0., 0.,\n",
       "          0., 0., 0.],\n",
       "         [0., 0., 0., 0., 0., 0., 0., 0., 0., 0., 7., 7., 7., 7., 7., 7., 7., 0.,\n",
       "          0., 0., 0.],\n",
       "         [0., 0., 0., 0., 0., 0., 0., 0., 0., 0., 7., 7., 7., 7., 7., 7., 7., 7.,\n",
       "          0., 0., 0.],\n",
       "         [0., 0., 0., 0., 0., 0., 0., 0., 0., 0., 0., 0., 0., 0., 0., 0., 0., 0.,\n",
       "          0., 0., 0.],\n",
       "         [0., 0., 0., 0., 0., 0., 0., 0., 0., 0., 0., 0., 0., 0., 0., 0., 0., 0.,\n",
       "          0., 0., 0.],\n",
       "         [0., 0., 0., 0., 0., 0., 7., 7., 7., 7., 7., 7., 7., 7., 0., 0., 0., 0.,\n",
       "          0., 0., 0.],\n",
       "         [0., 0., 0., 0., 0., 0., 7., 0., 0., 0., 0., 0., 0., 7., 0., 0., 0., 0.,\n",
       "          0., 0., 0.],\n",
       "         [0., 0., 0., 0., 0., 0., 7., 0., 7., 9., 7., 0., 0., 7., 0., 0., 0., 0.,\n",
       "          0., 0., 0.],\n",
       "         [0., 0., 0., 0., 0., 0., 7., 0., 9., 3., 4., 0., 0., 7., 0., 0., 0., 0.,\n",
       "          0., 0., 0.],\n",
       "         [0., 0., 0., 0., 0., 0., 7., 0., 9., 4., 3., 0., 0., 7., 0., 0., 0., 0.,\n",
       "          0., 0., 0.],\n",
       "         [0., 0., 0., 0., 0., 0., 7., 0., 0., 0., 0., 0., 0., 7., 0., 0., 0., 0.,\n",
       "          0., 0., 0.],\n",
       "         [0., 0., 0., 0., 0., 0., 7., 0., 0., 0., 0., 0., 0., 7., 0., 0., 0., 0.,\n",
       "          0., 0., 0.],\n",
       "         [0., 0., 0., 0., 0., 0., 7., 7., 7., 7., 7., 7., 7., 7., 0., 0., 0., 0.,\n",
       "          0., 0., 0.],\n",
       "         [0., 0., 0., 0., 0., 0., 0., 0., 0., 0., 0., 0., 0., 0., 0., 0., 0., 0.,\n",
       "          0., 0., 0.],\n",
       "         [0., 0., 0., 0., 0., 0., 0., 0., 0., 0., 7., 7., 7., 7., 7., 7., 7., 7.,\n",
       "          0., 0., 0.],\n",
       "         [0., 0., 0., 0., 0., 0., 0., 0., 0., 0., 7., 0., 0., 0., 0., 0., 0., 7.,\n",
       "          0., 0., 0.],\n",
       "         [0., 0., 0., 0., 0., 0., 0., 0., 0., 0., 7., 0., 0., 0., 0., 0., 0., 7.,\n",
       "          0., 0., 0.],\n",
       "         [0., 0., 0., 0., 0., 0., 0., 0., 0., 0., 7., 0., 0., 0., 0., 0., 0., 7.,\n",
       "          0., 0., 0.],\n",
       "         [0., 0., 0., 0., 0., 0., 0., 0., 0., 0., 7., 0., 0., 0., 0., 0., 0., 7.,\n",
       "          0., 0., 0.],\n",
       "         [0., 0., 0., 0., 0., 0., 0., 0., 0., 0., 7., 0., 0., 0., 0., 0., 0., 7.,\n",
       "          0., 0., 0.],\n",
       "         [0., 0., 0., 0., 0., 0., 0., 0., 0., 0., 7., 0., 0., 0., 0., 0., 0., 7.,\n",
       "          0., 0., 0.],\n",
       "         [0., 0., 0., 0., 0., 0., 0., 0., 0., 0., 7., 7., 7., 7., 7., 7., 7., 7.,\n",
       "          0., 0., 0.],\n",
       "         [0., 0., 0., 0., 0., 0., 0., 0., 0., 0., 0., 0., 0., 0., 0., 0., 0., 0.,\n",
       "          0., 0., 0.]]),\n",
       " 0,\n",
       " 0)"
      ]
     },
     "execution_count": 252,
     "metadata": {},
     "output_type": "execute_result"
    },
    {
     "data": {
      "image/png": "[encoded data removed]",
      "text/plain": [
       "<Figure size 432x288 with 1 Axes>"
      ]
     },
     "metadata": {},
     "output_type": "display_data"
    }
   ],
   "source": [
    "canvas1.render()"
   ]
  },
  {
   "cell_type": "code",
   "execution_count": 253,
   "metadata": {},
   "outputs": [
    {
     "data": {
      "text/plain": [
       "(tensor([[0., 0., 0., 0., 0., 0., 0., 0., 0., 0., 0., 0., 0., 0., 0., 0., 0., 0.,\n",
       "          0., 0., 0.],\n",
       "         [0., 0., 0., 0., 0., 0., 0., 0., 0., 0., 0., 0., 0., 0., 0., 0., 0., 0.,\n",
       "          0., 0., 0.],\n",
       "         [0., 0., 0., 0., 0., 0., 0., 0., 0., 0., 0., 0., 0., 0., 0., 0., 0., 0.,\n",
       "          0., 0., 0.],\n",
       "         [0., 0., 0., 0., 0., 0., 0., 0., 0., 0., 7., 7., 7., 7., 7., 7., 7., 0.,\n",
       "          0., 0., 0.],\n",
       "         [0., 0., 0., 0., 0., 0., 0., 0., 0., 0., 7., 7., 7., 7., 7., 7., 7., 7.,\n",
       "          0., 0., 0.],\n",
       "         [0., 0., 0., 0., 0., 0., 0., 0., 0., 0., 0., 0., 0., 0., 0., 0., 0., 0.,\n",
       "          0., 0., 0.],\n",
       "         [0., 0., 0., 0., 0., 0., 0., 0., 0., 0., 0., 0., 0., 0., 0., 0., 0., 0.,\n",
       "          0., 0., 0.],\n",
       "         [0., 0., 0., 0., 0., 0., 7., 7., 7., 7., 7., 7., 7., 7., 0., 0., 0., 0.,\n",
       "          0., 0., 0.],\n",
       "         [0., 0., 0., 0., 0., 0., 7., 0., 0., 0., 0., 0., 0., 7., 0., 0., 0., 0.,\n",
       "          0., 0., 0.],\n",
       "         [0., 0., 0., 0., 0., 0., 7., 0., 9., 9., 7., 0., 0., 7., 0., 0., 0., 0.,\n",
       "          0., 0., 0.],\n",
       "         [0., 0., 0., 0., 0., 0., 7., 0., 4., 3., 9., 0., 0., 7., 0., 0., 0., 0.,\n",
       "          0., 0., 0.],\n",
       "         [0., 0., 0., 0., 0., 0., 7., 0., 3., 4., 7., 0., 0., 7., 0., 0., 0., 0.,\n",
       "          0., 0., 0.],\n",
       "         [0., 0., 0., 0., 0., 0., 7., 0., 0., 0., 0., 0., 0., 7., 0., 0., 0., 0.,\n",
       "          0., 0., 0.],\n",
       "         [0., 0., 0., 0., 0., 0., 7., 0., 0., 0., 0., 0., 0., 7., 0., 0., 0., 0.,\n",
       "          0., 0., 0.],\n",
       "         [0., 0., 0., 0., 0., 0., 7., 7., 7., 7., 7., 7., 7., 7., 0., 0., 0., 0.,\n",
       "          0., 0., 0.],\n",
       "         [0., 0., 0., 0., 0., 0., 0., 0., 0., 0., 0., 0., 0., 0., 0., 0., 0., 0.,\n",
       "          0., 0., 0.],\n",
       "         [0., 0., 0., 0., 0., 0., 0., 0., 0., 0., 7., 7., 7., 7., 7., 7., 7., 7.,\n",
       "          0., 0., 0.],\n",
       "         [0., 0., 0., 0., 0., 0., 0., 0., 0., 0., 7., 0., 0., 0., 0., 0., 0., 7.,\n",
       "          0., 0., 0.],\n",
       "         [0., 0., 0., 0., 0., 0., 0., 0., 0., 0., 7., 0., 0., 0., 0., 0., 0., 7.,\n",
       "          0., 0., 0.],\n",
       "         [0., 0., 0., 0., 0., 0., 0., 0., 0., 0., 7., 0., 0., 0., 0., 0., 0., 7.,\n",
       "          0., 0., 0.],\n",
       "         [0., 0., 0., 0., 0., 0., 0., 0., 0., 0., 7., 0., 0., 0., 0., 0., 0., 7.,\n",
       "          0., 0., 0.],\n",
       "         [0., 0., 0., 0., 0., 0., 0., 0., 0., 0., 7., 0., 0., 0., 0., 0., 0., 7.,\n",
       "          0., 0., 0.],\n",
       "         [0., 0., 0., 0., 0., 0., 0., 0., 0., 0., 7., 0., 0., 0., 0., 0., 0., 7.,\n",
       "          0., 0., 0.],\n",
       "         [0., 0., 0., 0., 0., 0., 0., 0., 0., 0., 7., 7., 7., 7., 7., 7., 7., 7.,\n",
       "          0., 0., 0.],\n",
       "         [0., 0., 0., 0., 0., 0., 0., 0., 0., 0., 0., 0., 0., 0., 0., 0., 0., 0.,\n",
       "          0., 0., 0.]]),\n",
       " 0,\n",
       " 0)"
      ]
     },
     "execution_count": 253,
     "metadata": {},
     "output_type": "execute_result"
    },
    {
     "data": {
      "image/png": "[encoded data removed]",
      "text/plain": [
       "<Figure size 432x288 with 1 Axes>"
      ]
     },
     "metadata": {},
     "output_type": "display_data"
    }
   ],
   "source": [
    "canvas_new_list[0].render()"
   ]
  },
  {
   "cell_type": "code",
   "execution_count": 137,
   "metadata": {},
   "outputs": [],
   "source": [
    "graphs = OperatorEngine().sample_operator_graph(max_ops_depth=1)"
   ]
  },
  {
   "cell_type": "code",
   "execution_count": 138,
   "metadata": {},
   "outputs": [
    {
     "data": {
      "text/plain": [
       "[OrderedDict([('0$OUT', '@IDENTITY 0$IN'),\n",
       "              ('1$OUT', '@IDENTITY 0$OUT^$SELECTOR_PATTERN'),\n",
       "              ('2$OUT', '@IDENTITY 1$OUT^$SELECTOR_PATTERN')]),\n",
       " OrderedDict([('0$OUT', '@IDENTITY 0$IN'),\n",
       "              ('1$OUT', '@IDENTITY 0$OUT^$SELECTOR_PATTERN'),\n",
       "              ('2$OUT', '@IDENTITY 1$OUT^$SELECTOR_ALL')]),\n",
       " OrderedDict([('0$OUT', '@IDENTITY 0$IN'),\n",
       "              ('1$OUT', '@IDENTITY 0$OUT^$SELECTOR_PATTERN'),\n",
       "              ('2$OUT', '@IDENTITY 1$OUT^$SELECTOR_EXTREME')]),\n",
       " OrderedDict([('0$OUT', '@IDENTITY 0$IN'),\n",
       "              ('1$OUT', '@IDENTITY 0$OUT^$SELECTOR_PATTERN'),\n",
       "              ('2$OUT', '@IDENTITY 1$OUT^$SELECTOR_WHOLE')]),\n",
       " OrderedDict([('0$OUT', '@IDENTITY 0$IN'),\n",
       "              ('1$OUT', '@IDENTITY 0$OUT^$SELECTOR_ALL'),\n",
       "              ('2$OUT', '@IDENTITY 1$OUT^$SELECTOR_PATTERN')]),\n",
       " OrderedDict([('0$OUT', '@IDENTITY 0$IN'),\n",
       "              ('1$OUT', '@IDENTITY 0$OUT^$SELECTOR_ALL'),\n",
       "              ('2$OUT', '@IDENTITY 1$OUT^$SELECTOR_ALL')]),\n",
       " OrderedDict([('0$OUT', '@IDENTITY 0$IN'),\n",
       "              ('1$OUT', '@IDENTITY 0$OUT^$SELECTOR_ALL'),\n",
       "              ('2$OUT', '@IDENTITY 1$OUT^$SELECTOR_EXTREME')]),\n",
       " OrderedDict([('0$OUT', '@IDENTITY 0$IN'),\n",
       "              ('1$OUT', '@IDENTITY 0$OUT^$SELECTOR_ALL'),\n",
       "              ('2$OUT', '@IDENTITY 1$OUT^$SELECTOR_WHOLE')]),\n",
       " OrderedDict([('0$OUT', '@IDENTITY 0$IN'),\n",
       "              ('1$OUT', '@IDENTITY 0$OUT^$SELECTOR_EXTREME'),\n",
       "              ('2$OUT', '@IDENTITY 1$OUT^$SELECTOR_PATTERN')]),\n",
       " OrderedDict([('0$OUT', '@IDENTITY 0$IN'),\n",
       "              ('1$OUT', '@IDENTITY 0$OUT^$SELECTOR_EXTREME'),\n",
       "              ('2$OUT', '@IDENTITY 1$OUT^$SELECTOR_ALL')]),\n",
       " OrderedDict([('0$OUT', '@IDENTITY 0$IN'),\n",
       "              ('1$OUT', '@IDENTITY 0$OUT^$SELECTOR_EXTREME'),\n",
       "              ('2$OUT', '@IDENTITY 1$OUT^$SELECTOR_EXTREME')]),\n",
       " OrderedDict([('0$OUT', '@IDENTITY 0$IN'),\n",
       "              ('1$OUT', '@IDENTITY 0$OUT^$SELECTOR_EXTREME'),\n",
       "              ('2$OUT', '@IDENTITY 1$OUT^$SELECTOR_WHOLE')]),\n",
       " OrderedDict([('0$OUT', '@IDENTITY 0$IN'),\n",
       "              ('1$OUT', '@IDENTITY 0$OUT^$SELECTOR_WHOLE'),\n",
       "              ('2$OUT', '@IDENTITY 1$OUT^$SELECTOR_PATTERN')]),\n",
       " OrderedDict([('0$OUT', '@IDENTITY 0$IN'),\n",
       "              ('1$OUT', '@IDENTITY 0$OUT^$SELECTOR_WHOLE'),\n",
       "              ('2$OUT', '@IDENTITY 1$OUT^$SELECTOR_ALL')]),\n",
       " OrderedDict([('0$OUT', '@IDENTITY 0$IN'),\n",
       "              ('1$OUT', '@IDENTITY 0$OUT^$SELECTOR_WHOLE'),\n",
       "              ('2$OUT', '@IDENTITY 1$OUT^$SELECTOR_EXTREME')]),\n",
       " OrderedDict([('0$OUT', '@IDENTITY 0$IN'),\n",
       "              ('1$OUT', '@IDENTITY 0$OUT^$SELECTOR_WHOLE'),\n",
       "              ('2$OUT', '@IDENTITY 1$OUT^$SELECTOR_WHOLE')])]"
      ]
     },
     "execution_count": 138,
     "metadata": {},
     "output_type": "execute_result"
    }
   ],
   "source": [
    "graphs"
   ]
  },
  {
   "cell_type": "code",
   "execution_count": 141,
   "metadata": {},
   "outputs": [
    {
     "data": {
      "image/png": "[encoded data removed]",
      "text/plain": [
       "<Figure size 432x288 with 1 Axes>"
      ]
     },
     "metadata": {},
     "output_type": "display_data"
    }
   ],
   "source": [
    "task_dict1 = demo_dataset.sample_single_canvas_by_core_edges(OrderedDict([(('obj_0', 'obj_1'), 'IsInside'), \n",
    "                                                            (('obj_2', 'obj_1'), 'SameAll'), \n",
    "                                                            (('obj_2', 'obj_3'), 'SameCol')]))\n",
    "canvas1 = Canvas(repre_dict=task_dict1)"
   ]
  },
  {
   "cell_type": "code",
   "execution_count": 142,
   "metadata": {},
   "outputs": [
    {
     "data": {
      "image/png": "[encoded data removed]",
      "text/plain": [
       "<Figure size 432x288 with 1 Axes>"
      ]
     },
     "metadata": {},
     "output_type": "display_data"
    }
   ],
   "source": [
    "task_dict2 = demo_dataset.sample_single_canvas_by_core_edges(OrderedDict([(('obj_0', 'obj_1'), 'IsInside'), \n",
    "                                                            (('obj_2', 'obj_1'), 'SameAll'), \n",
    "                                                            (('obj_2', 'obj_3'), 'SameCol')]))\n",
    "canvas2 = Canvas(repre_dict=task_dict2)"
   ]
  },
  {
   "cell_type": "code",
   "execution_count": 183,
   "metadata": {},
   "outputs": [],
   "source": [
    "# rotate the whole canvas!"
   ]
  },
  {
   "cell_type": "code",
   "execution_count": null,
   "metadata": {},
   "outputs": [],
   "source": [
    "def operate_rotate_whole(canvas_list):\n",
    "    pass"
   ]
  },
  {
   "cell_type": "code",
   "execution_count": 184,
   "metadata": {},
   "outputs": [],
   "source": []
  },
  {
   "cell_type": "code",
   "execution_count": 185,
   "metadata": {},
   "outputs": [
    {
     "name": "stdout",
     "output_type": "stream",
     "text": [
      "<canvas.Canvas object at 0x7feb30a63550>\n"
     ]
    }
   ],
   "source": [
    "_rotate_whole(canvas1)"
   ]
  },
  {
   "cell_type": "code",
   "execution_count": 145,
   "metadata": {},
   "outputs": [
    {
     "data": {
      "text/plain": [
       "[[['obj_2', 'obj_1'], ['obj_2', 'obj_1']],\n",
       " [['obj_0'], ['obj_0']],\n",
       " [['obj_2', 'obj_3'], ['obj_2', 'obj_3']]]"
      ]
     },
     "execution_count": 145,
     "metadata": {},
     "output_type": "execute_result"
    }
   ],
   "source": [
    "OperatorEngine().select_by_common_referred_patterns([canvas1, canvas2])"
   ]
  },
  {
   "cell_type": "code",
   "execution_count": 18,
   "metadata": {},
   "outputs": [],
   "source": [
    "# load operators, and generate sample outputs!"
   ]
  },
  {
   "cell_type": "markdown",
   "metadata": {},
   "source": [
    "### BabyARC in Actions: Generate Outputs"
   ]
  },
  {
   "cell_type": "code",
   "execution_count": 19,
   "metadata": {},
   "outputs": [],
   "source": [
    "# generate a full example with BabyARC!"
   ]
  }
 ],
 "metadata": {
  "kernelspec": {
   "display_name": "Python 3",
   "language": "python",
   "name": "python3"
  },
  "language_info": {
   "codemirror_mode": {
    "name": "ipython",
    "version": 3
   },
   "file_extension": ".py",
   "mimetype": "text/x-python",
   "name": "python",
   "nbconvert_exporter": "python",
   "pygments_lexer": "ipython3",
   "version": "3.7.3"
  }
 },
 "nbformat": 4,
 "nbformat_minor": 4
}
